{
 "cells": [
  {
   "cell_type": "code",
   "execution_count": null,
   "metadata": {},
   "outputs": [],
   "source": [
    "import json\n",
    "import statistics\n",
    "import matplotlib as mpl\n",
    "mpl.rcParams['agg.path.chunksize'] = 10000\n",
    "import matplotlib.pyplot as plt\n",
    "from coordinate_converter import ssb_grid_id_to_utm_centroid, utm_to_latitude_longitude, utm_distance"
   ]
  },
  {
   "cell_type": "code",
   "execution_count": null,
   "metadata": {},
   "outputs": [],
   "source": [
    "od = {}\n",
    "with open(f'data/od.json', 'r') as r:\n",
    "    od = json.load(r)"
   ]
  },
  {
   "cell_type": "code",
   "execution_count": null,
   "metadata": {},
   "outputs": [],
   "source": [
    "od_paths = {}\n",
    "with open(f'data/od_paths.json', 'r') as r:\n",
    "    od_paths = json.load(r)"
   ]
  },
  {
   "cell_type": "code",
   "execution_count": null,
   "metadata": {},
   "outputs": [],
   "source": [
    "old = []\n",
    "new = []\n",
    "diffs = []\n",
    "coords = []\n",
    "\n",
    "for start_id in od_paths.keys():\n",
    "    if start_id == \"update_period_minutes\":\n",
    "        continue\n",
    "    for end_id in od_paths[start_id]:\n",
    "        try:\n",
    "            travel_time = od[start_id][end_id]\n",
    "            path_time = od_paths[start_id][end_id][\"travel_time\"]/60\n",
    "            coords.append((start_id, end_id))\n",
    "            old.append(travel_time)\n",
    "            new.append(path_time)\n",
    "            diffs.append(round(path_time-travel_time, 1))\n",
    "        except:\n",
    "            continue"
   ]
  },
  {
   "cell_type": "code",
   "execution_count": null,
   "metadata": {},
   "outputs": [],
   "source": [
    "print(\"Average travel time difference:\", statistics.fmean(diffs))\n",
    "print(\"Biggest differences:\", max(diffs), min(diffs))\n",
    "print(\"Median travel time old:\", statistics.median(old))\n",
    "print(\"Median travel time new:\", statistics.median(new))"
   ]
  },
  {
   "cell_type": "code",
   "execution_count": null,
   "metadata": {},
   "outputs": [],
   "source": [
    "size_plt = len(old) # 1_000_000\n",
    "old_plt = old[:size_plt]\n",
    "new_plt = new[:size_plt]\n",
    "\n",
    "old_plt = sorted(old_plt)\n",
    "new_plt = sorted(new_plt)\n",
    "\n",
    "plt.scatter(range(size_plt), old_plt, s=1, alpha=1)\n",
    "plt.scatter(range(size_plt), new_plt, s=1, alpha=1)"
   ]
  },
  {
   "cell_type": "code",
   "execution_count": null,
   "metadata": {},
   "outputs": [],
   "source": [
    "plt.scatter(range(size_plt), sorted(diffs), s=1, alpha=1)\n",
    "plt.axhline(y=0, color='r', linestyle='-')"
   ]
  },
  {
   "cell_type": "code",
   "execution_count": null,
   "metadata": {},
   "outputs": [],
   "source": [
    "size = 0\n",
    "processed = []\n",
    "for i in range(len(diffs)):\n",
    "    if (-30 > diffs[i] > -50 or 30 < diffs[i] < 50) and coords[i][0][0] != '_' and coords[i][1][0] != '_':\n",
    "        size += 1\n",
    "        start = ssb_grid_id_to_utm_centroid(int(coords[i][0]))\n",
    "        end = ssb_grid_id_to_utm_centroid(int(coords[i][1]))\n",
    "        newPath = True\n",
    "        for a, b in processed:\n",
    "            start_dist = utm_distance(start, a)\n",
    "            end_dist = utm_distance(end, b)\n",
    "            if start_dist + end_dist < 20000:\n",
    "                newPath = False\n",
    "                continue\n",
    "        if newPath:\n",
    "            processed.append((start, end))\n",
    "            print(\"old\", round(old[i]), \"new\", round(new[i]), utm_to_latitude_longitude(start), utm_to_latitude_longitude(end))\n",
    "\n",
    "print(size)\n",
    "print(len(processed))"
   ]
  },
  {
   "cell_type": "code",
   "execution_count": null,
   "metadata": {},
   "outputs": [],
   "source": [
    "google = [90, 82.5, 100, 120, 80, 40, 75, 140, 45, 90, 110, 90, 82.5, 130, 45, 90, 92.5, 100, 77.5, 100, 0, 100, 50, 120]\n",
    "old_select = [142, 128, 154, 82, 66, 104, 159, 106, 32, 131, 79, 128, 121, 81, 32, 64, 60, 49, 37, 60, 34, 61, 6, 88]\n",
    "new_select = [88, 77, 99, 133, 118, 31, 77, 158, 62, 92, 112, 83, 76, 120, 63, 95, 91, 83, 68, 95, 0, 98, 49, 119]\n",
    "\n",
    "old_select = [x for _, x in sorted(zip(google, old_select))]\n",
    "new_select = [x for _, x in sorted(zip(google, new_select))]\n",
    "google = sorted(google)\n",
    "\n",
    "x = range(len(google))\n",
    "plt.plot(x, google, c=\"green\")\n",
    "plt.plot(x, old_select, c=\"red\")\n",
    "plt.plot(x, new_select, c=\"blue\")"
   ]
  }
 ],
 "metadata": {
  "kernelspec": {
   "display_name": "Python 3",
   "language": "python",
   "name": "python3"
  },
  "language_info": {
   "codemirror_mode": {
    "name": "ipython",
    "version": 3
   },
   "file_extension": ".py",
   "mimetype": "text/x-python",
   "name": "python",
   "nbconvert_exporter": "python",
   "pygments_lexer": "ipython3",
   "version": "3.10.9"
  },
  "orig_nbformat": 4,
  "vscode": {
   "interpreter": {
    "hash": "d4a811d5ac078233afb31e03e369e37491729ef21c8e6253c2c4b1b285997043"
   }
  }
 },
 "nbformat": 4,
 "nbformat_minor": 2
}
