{
 "cells": [
  {
   "cell_type": "code",
   "execution_count": 1,
   "metadata": {},
   "outputs": [],
   "source": [
    "import csv\n",
    "import copy\n",
    "import pandas as pd\n",
    "from tqdm import tqdm\n",
    "from datetime import datetime\n",
    "\n",
    "from coordinate_converter import utm_to_ssb_grid_id"
   ]
  },
  {
   "cell_type": "code",
   "execution_count": 13,
   "metadata": {},
   "outputs": [],
   "source": [
    "INCIDENTS_FILE = \"data/incidents_all_processed.csv\"\n",
    "\n",
    "DISTRIBUTION_FILE = \"data/incidents_distribution_station.csv\"\n",
    "CSV_COLUMNS = ['Base Station','Year','Month','Day','Week','Weekday','Hour','Incidents']"
   ]
  },
  {
   "cell_type": "code",
   "execution_count": 3,
   "metadata": {},
   "outputs": [],
   "source": [
    "def create_empty_counts():\n",
    "    # grids = pd.read_csv(\"data/grid_centroids.csv\")\n",
    "    base_stations = pd.read_csv(\"data/base_stations.csv\")\n",
    "\n",
    "    counts = {}\n",
    "\n",
    "    time = {}\n",
    "    for year in range(2015, 2019):\n",
    "        time[year] = {}\n",
    "        for month in range(1, 13):\n",
    "            time[year][month] = {}\n",
    "            for day in range(1, 32):\n",
    "                time[year][month][day] = {}\n",
    "                for hour in range(0, 24):\n",
    "                    time[year][month][day][hour] = 0\n",
    "\n",
    "    for station in base_stations.values:\n",
    "        counts[int(station[0])] = copy.deepcopy(time)\n",
    "\n",
    "    return counts"
   ]
  },
  {
   "cell_type": "code",
   "execution_count": 4,
   "metadata": {},
   "outputs": [],
   "source": [
    "def count_incidents(df, counts):\n",
    "    grid_zones = pd.read_csv(\"data/grid_zones.csv\")\n",
    "\n",
    "    for incident in tqdm(df.values, desc=\"Count incidents per hour\"):\n",
    "        dt = datetime.strptime(incident[0], '%Y-%m-%d %H:%M:%S')\n",
    "        incident_grid = utm_to_ssb_grid_id(int(incident[1]), int(incident[2]))\n",
    "        try:\n",
    "            incident_station = grid_zones.loc[grid_zones[\"SSBID1000M\"] == incident_grid, \"base_station\"].iloc[0]\n",
    "            counts[incident_station][dt.year][dt.month][dt.day][dt.hour] += 1\n",
    "        except:\n",
    "            print(f\"grid {incident_grid} was not in grid_zones.csv\")\n",
    "            continue"
   ]
  },
  {
   "cell_type": "code",
   "execution_count": 10,
   "metadata": {},
   "outputs": [],
   "source": [
    "def save_counts_to_csv(counts):\n",
    "    with open(DISTRIBUTION_FILE, 'w', newline='') as csvfile:\n",
    "        writer = csv.DictWriter(csvfile, fieldnames=CSV_COLUMNS)\n",
    "        writer.writeheader()\n",
    "        for station_id in counts.keys():\n",
    "            for year in counts[station_id].keys():\n",
    "                for month in counts[station_id][year].keys():\n",
    "                    for day in counts[station_id][year][month].keys():\n",
    "                        for hour in counts[station_id][year][month][day].keys():\n",
    "                            count = counts[station_id][year][month][day][hour]\n",
    "                            try:\n",
    "                                date = datetime(year, month, day)\n",
    "                                week = date.isocalendar().week\n",
    "                                weekday = date.weekday() + 1\n",
    "                                row = {\n",
    "                                    'Base Station': station_id, \n",
    "                                    'Year': year, \n",
    "                                    'Month': month, \n",
    "                                    'Day': day, \n",
    "                                    'Week': week, \n",
    "                                    'Weekday': weekday, \n",
    "                                    'Hour': hour, \n",
    "                                    'Incidents': count\n",
    "                                }\n",
    "                                writer.writerow(row)\n",
    "                            except:\n",
    "                                break\n",
    "                            \n",
    "\n"
   ]
  },
  {
   "cell_type": "code",
   "execution_count": 6,
   "metadata": {},
   "outputs": [],
   "source": [
    "incidents = pd.read_csv(INCIDENTS_FILE, encoding='utf-8', escapechar='\\\\', parse_dates=True)"
   ]
  },
  {
   "cell_type": "code",
   "execution_count": 14,
   "metadata": {},
   "outputs": [],
   "source": [
    "counts = create_empty_counts()\n",
    "count_incidents(incidents, counts)\n",
    "save_counts_to_csv(counts)"
   ]
  }
 ],
 "metadata": {
  "kernelspec": {
   "display_name": "Python 3",
   "language": "python",
   "name": "python3"
  },
  "language_info": {
   "codemirror_mode": {
    "name": "ipython",
    "version": 3
   },
   "file_extension": ".py",
   "mimetype": "text/x-python",
   "name": "python",
   "nbconvert_exporter": "python",
   "pygments_lexer": "ipython3",
   "version": "3.10.9"
  },
  "orig_nbformat": 4
 },
 "nbformat": 4,
 "nbformat_minor": 2
}
