{
 "cells": [
  {
   "cell_type": "code",
   "execution_count": null,
   "metadata": {},
   "outputs": [],
   "source": [
    "# import seaborn\n",
    "import seaborn as sns\n",
    "import pandas as pd\n",
    "import numpy as np\n",
    "\n",
    "from datetime import datetime\n",
    "import matplotlib.pyplot as plt\n",
    "\n",
    "\n",
    "# settings for seaborn plotting style\n",
    "sns.set(color_codes=True)\n",
    "# settings for seaborn plot sizes\n",
    "sns.set(rc={'figure.figsize':(5,5)})"
   ]
  },
  {
   "cell_type": "code",
   "execution_count": null,
   "metadata": {},
   "outputs": [],
   "source": [
    "def convert_to_datetime(df):\n",
    "  df['tidspunkt'] = pd.to_datetime(df['tidspunkt'], dayfirst=True)\n",
    "  df['ank_hentested'] = pd.to_datetime(df['ank_hentested'], dayfirst=True)\n",
    "  return df"
   ]
  },
  {
   "cell_type": "code",
   "execution_count": null,
   "metadata": {},
   "outputs": [],
   "source": [
    "df = pd.read_csv(\"proprietary_data/processed_distribution.csv\")\n",
    "\n",
    "df.loc[df[\"hastegrad\"] == 'V1', \"hastegrad\"] = 'V'\n",
    "df.loc[df[\"hastegrad\"] == 'V2', \"hastegrad\"] = 'V'\n",
    "df = convert_to_datetime(df)\n",
    "df[\"date\"] = pd.to_datetime(df[\"tidspunkt\"]).dt.date\n",
    "df[\"response_time\"] = (df[\"ank_hentested\"] - df[\"tidspunkt\"]).dt.total_seconds()"
   ]
  },
  {
   "cell_type": "code",
   "execution_count": null,
   "metadata": {},
   "outputs": [],
   "source": [
    "start = datetime(2015, 1, 5, 0, 0, 0)\n",
    "end = datetime(2018, 12, 30, 0, 0, 0)\n",
    "\n",
    "df_filtered = df.loc[(df['tidspunkt'] >= start) & (df['tidspunkt'] <= end)]\n",
    "\n",
    "# Group the incidents by date and count the number of incidents per date\n",
    "incidents_by_date = df_filtered.groupby(df[\"tidspunkt\"].dt.date).size().reset_index(name=\"count\")\n",
    "\n",
    "trend = np.polyfit(range(len(incidents_by_date)), incidents_by_date[\"count\"], 1)\n",
    "line = np.poly1d(trend)\n",
    "\n",
    "# Create the line plot\n",
    "fig, ax = plt.subplots()\n",
    "fig.set_size_inches(12, 5)\n",
    "ax.set_xlim(left=incidents_by_date[\"tidspunkt\"].iloc[0], right=incidents_by_date[\"tidspunkt\"].iloc[-1])\n",
    "ax.plot(incidents_by_date[\"tidspunkt\"], incidents_by_date[\"count\"])\n",
    "ax.plot(incidents_by_date[\"tidspunkt\"], line(range(len(incidents_by_date))))\n",
    "ax.set_xlabel(\"Date\")\n",
    "ax.set_ylabel(\"Incidents\")\n",
    "plt.show()"
   ]
  },
  {
   "cell_type": "code",
   "execution_count": null,
   "metadata": {},
   "outputs": [],
   "source": [
    "import matplotlib.dates as mdates\n",
    "\n",
    "# Group the incidents by date and count the number of incidents per date\n",
    "incidents_by_date = df.groupby(\"date\").size().reset_index(name=\"count\")\n",
    "\n",
    "# Group the incidents by day of year and calculate the average number of incidents per day of year\n",
    "incidents_by_doy = incidents_by_date.groupby(incidents_by_date[\"date\"].apply(lambda x: x.timetuple().tm_yday)).mean().reset_index()\n",
    "\n",
    "# Create the line plot\n",
    "fig, ax = plt.subplots()\n",
    "fig.set_size_inches(12, 5)\n",
    "ax.set_xlim(0, 364)\n",
    "ax.plot(incidents_by_doy[\"date\"], incidents_by_doy[\"count\"])\n",
    "ax.set_xlabel(\"Day of year\")\n",
    "ax.set_ylabel(\"Average incident count \")\n",
    "ax.xaxis.set_major_locator(mdates.MonthLocator())\n",
    "ax.xaxis.set_major_formatter(mdates.DateFormatter('%b'))\n",
    "plt.show()"
   ]
  },
  {
   "cell_type": "code",
   "execution_count": null,
   "metadata": {},
   "outputs": [],
   "source": [
    "import calendar\n",
    "from matplotlib.colors import LinearSegmentedColormap\n",
    "\n",
    "# Create a new column for the hour of each incident\n",
    "df[\"hour\"] = df[\"tidspunkt\"].dt.hour\n",
    "\n",
    "# Group incidents by weekday and hour, and calculate the average count per hour\n",
    "incidents_by_weekday_hour = df.groupby([df[\"tidspunkt\"].dt.weekday, \"hour\"]).size().reset_index(name=\"count\")\n",
    "incidents_by_weekday_hour[\"mean\"] = incidents_by_weekday_hour[\"count\"] / (52*4)\n",
    "incidents_by_weekday_hour[\"weekday\"] = incidents_by_weekday_hour[\"tidspunkt\"].apply(lambda x: calendar.day_name[x])\n",
    "\n",
    "# Pivot the data to get a table with weekdays as columns and hours as rows\n",
    "incidents_by_weekday_hour_pivot = incidents_by_weekday_hour.pivot(index=\"hour\", columns=\"weekday\", values=\"mean\")\n",
    "\n",
    "# Sort the columns of the pivot table\n",
    "incidents_by_weekday_hour_pivot = incidents_by_weekday_hour_pivot.reindex(columns=calendar.day_name)\n",
    "\n",
    "# Define a custom colormap\n",
    "cmap = LinearSegmentedColormap.from_list('my_cmap', [(0, 0, 0.5), (0, 0, 1), (0, 0.5, 1), (0, 1, 0), (0.5, 1, 0), (1, 0.3, 0), (0.7, 0, 0)], N=7)\n",
    "\n",
    "# Create the line plot\n",
    "fig, ax = plt.subplots()\n",
    "fig.set_size_inches(12, 5)\n",
    "for i, day in enumerate(incidents_by_weekday_hour_pivot):\n",
    "    vals = incidents_by_weekday_hour_pivot[day]\n",
    "    clr = cmap(np.linspace(0, 1, 7)[i])\n",
    "    ax.plot(vals, label=day, color=clr)\n",
    "ax.set_xlim(0, 23)\n",
    "ax.set_xlabel(\"Hour of day\")\n",
    "ax.set_ylabel(\"Average incident count\")\n",
    "ax.legend(incidents_by_weekday_hour_pivot.columns)\n",
    "# Set the x-ticks\n",
    "ax.set_xticks(range(24))\n",
    "plt.show()"
   ]
  },
  {
   "cell_type": "code",
   "execution_count": null,
   "metadata": {},
   "outputs": [],
   "source": [
    "import matplotlib.dates as mdates\n",
    "\n",
    "# Create a new column for the hour of each incident\n",
    "df[\"hour\"] = df[\"tidspunkt\"].dt.hour\n",
    "\n",
    "# Group the incidents by date and hour and count the number of incidents per date and hour\n",
    "incidents_by_date_hour = df.groupby([df[\"tidspunkt\"].dt.date, \"hour\"]).size().reset_index(name=\"count\")\n",
    "\n",
    "# Group the incidents by day of week and hour and calculate the average number of incidents per day of week and hour\n",
    "incidents_by_dow_hour = incidents_by_date_hour.groupby([incidents_by_date_hour[\"tidspunkt\"].apply(lambda x: x.weekday()), \"hour\"]).mean().reset_index()\n",
    "\n",
    "# Create the line plot\n",
    "fig, ax = plt.subplots()\n",
    "fig.set_size_inches(12, 4)\n",
    "\n",
    "# Set x-axis ticks and labels\n",
    "xticklabels = [\"\", \"Monday\", \"Tuesday\", \"Wednesday\", \"Thursday\", \"Friday\", \"Saturday\", \"Sunday\"]\n",
    "\n",
    "# Plot the data\n",
    "ax.plot(incidents_by_dow_hour[\"count\"])\n",
    "ax.set_xlim(0, 167)\n",
    "ax.set_xticklabels(xticklabels)\n",
    "ax.set_xlabel(\"Day and hour of week\")\n",
    "ax.set_ylabel(\"Average incident count\")\n",
    "\n",
    "plt.show()"
   ]
  },
  {
   "cell_type": "code",
   "execution_count": null,
   "metadata": {},
   "outputs": [],
   "source": [
    "df_lim = df[df[\"hastegrad\"] == \"A\"]\n",
    "df_lim = df_lim[df_lim['response_time'].notna()]\n",
    "response_times = df_lim[\"response_time\"] / 60\n",
    "\n",
    "median = np.median(response_times)\n",
    "average = np.mean(response_times)\n",
    "percentile90 = np.percentile(response_times, 90)\n",
    "\n",
    "print(median, average, percentile90)"
   ]
  },
  {
   "cell_type": "code",
   "execution_count": null,
   "metadata": {},
   "outputs": [],
   "source": [
    "df_lim = df[df[\"response_time\"] < 60 * 120]\n",
    "df_lim = df_lim[df_lim['response_time'].notna()]\n",
    "\n",
    "df_lim = df_lim[df_lim[\"hastegrad\"] == \"A\"]\n",
    "\n",
    "response_times = df_lim[\"response_time\"] / 60\n",
    "\n",
    "ax = sns.histplot(response_times, kde=True, color='red')\n",
    "ax.set(xlabel='Response time ', ylabel='Incidents')"
   ]
  },
  {
   "cell_type": "code",
   "execution_count": null,
   "metadata": {},
   "outputs": [],
   "source": [
    "df = pd.read_csv(\"proprietary_data/incidents_processed_2.csv\", encoding='utf-8', escapechar='\\\\')\n",
    "\n",
    "df[df[\"hastegrad\"] == 'V1'] = 'V'\n",
    "df[df[\"hastegrad\"] == 'V2'] = 'V'\n",
    "df = df[df['hastegrad'].notna()]\n",
    "\n",
    "urgency = df[\"hastegrad\"]\n",
    "urgency = urgency.sort_values()\n"
   ]
  },
  {
   "cell_type": "code",
   "execution_count": null,
   "metadata": {},
   "outputs": [],
   "source": [
    "ax = sns.histplot(urgency, kde=False, color='blue')\n",
    "ax.set(xlabel='Urgency', ylabel='Incidents')"
   ]
  },
  {
   "cell_type": "code",
   "execution_count": null,
   "metadata": {},
   "outputs": [],
   "source": [
    "urgency_preset = []\n",
    "for u in urgency:\n",
    "    if u == 'A':\n",
    "        u = np.random.choice(['A', 'H'], p=[1/4, 3/4])\n",
    "    urgency_preset.append(u)\n",
    "\n",
    "urgency_preset.sort()\n",
    "urgency_preset = pd.Series(urgency_preset)\n",
    "\n",
    "ax = sns.histplot(urgency_preset, kde=False, color='blue')\n",
    "ax.set(xlabel='Distribution ', ylabel='Incidents')"
   ]
  },
  {
   "cell_type": "code",
   "execution_count": null,
   "metadata": {},
   "outputs": [],
   "source": [
    "df_sim = pd.read_csv(\"C:/Users/erikm/Documents/Studie/Master/ambulance-optimization/output/simulation/simple_response_times_pop_prop.csv\")\n",
    "\n",
    "df_sim[df_sim[\"urgency\"] == 'V1'] = 'V'\n",
    "df_sim[df_sim[\"urgency\"] == 'V2'] = 'V'\n",
    "urgency_sim = df_sim[\"urgency\"]\n",
    "\n",
    "ax = sns.histplot(urgency_sim, kde=False, color='green')\n",
    "ax.set(xlabel='Urgency', ylabel='Incidents')\n"
   ]
  },
  {
   "cell_type": "code",
   "execution_count": null,
   "metadata": {},
   "outputs": [],
   "source": [
    "urgency_sim_preset = []\n",
    "for u in urgency_sim:\n",
    "    if u == 'A':\n",
    "        u = np.random.choice(['A', 'H'], p=[1/4, 3/4])\n",
    "    urgency_sim_preset.append(u)\n",
    "\n",
    "urgency_sim_preset.sort()\n",
    "urgency_sim_preset = pd.Series(urgency_sim_preset)\n",
    "\n",
    "ax = sns.histplot(urgency_sim_preset, kde=False, color='green')\n",
    "ax.set(xlabel='Distribution ', ylabel='Incidents')"
   ]
  },
  {
   "cell_type": "code",
   "execution_count": null,
   "metadata": {},
   "outputs": [],
   "source": [
    "df_sim_A = df_sim[df_sim[\"urgency\"] == \"A\"]\n",
    "\n",
    "response_sim_A = df_sim_A[\"response_time\"] / 60\n",
    "\n",
    "ax = sns.displot(response_sim_A, kde=True, color='red')\n",
    "ax.set(xlabel='Response time ', ylabel='Incidents')"
   ]
  },
  {
   "cell_type": "code",
   "execution_count": null,
   "metadata": {},
   "outputs": [],
   "source": [
    "df_sim_H = df_sim[df_sim[\"urgency\"] == \"H\"]\n",
    "\n",
    "response_sim_H = df_sim_H[\"pop_prop_response\"] / 60\n",
    "\n",
    "ax = sns.displot(response_sim_H, kde=True, color='orange')\n",
    "ax.set(xlabel='Response time ', ylabel='Frequency')"
   ]
  },
  {
   "cell_type": "code",
   "execution_count": null,
   "metadata": {},
   "outputs": [],
   "source": [
    "import matplotlib.pyplot as plt\n",
    "\n",
    "sns.histplot(response_sim_A, kde=True, color='red')\n",
    "sns.histplot(response_sim_H, kde=True, color='orange')\n",
    "plt.show()"
   ]
  },
  {
   "cell_type": "code",
   "execution_count": null,
   "metadata": {},
   "outputs": [],
   "source": [
    "df_sim = pd.read_csv(\"C:/Users/erikm/Documents/Master/ambulance-optimization/output/simulation/urgency_incidents.csv\")\n",
    "\n",
    "df_sim_A = df_sim[df_sim[\"urgency\"] == \"A\"]\n",
    "\n",
    "response_sim_A = df_sim[\"pop_prop_response\"] / 60\n",
    "\n",
    "ax = sns.displot(response_sim_A, kde=True, color='blue')\n",
    "ax.set(xlabel='Response time ', ylabel='Frequency')\n",
    "plt.ylim(0, 200)\n"
   ]
  },
  {
   "cell_type": "code",
   "execution_count": null,
   "metadata": {},
   "outputs": [],
   "source": [
    "df_sim_H = df_sim[df_sim[\"urgency\"] == \"H\"]\n",
    "\n",
    "response_sim_H = df_sim_H[\"pop_prop_response\"] / 60\n",
    "\n",
    "ax = sns.displot(response_sim_H, kde=True, color='orange')\n",
    "ax.set(xlabel='Response time ', ylabel='Frequency')\n",
    "plt.ylim(0, 160)"
   ]
  },
  {
   "cell_type": "code",
   "execution_count": null,
   "metadata": {},
   "outputs": [],
   "source": [
    "sns.histplot(response_sim_H, bins=[0, 2, 4, 6, 8, 10, 12, 14, 16, 18, 20, 22, 24, 26, 28, 30], kde=True, color='yellow')\n",
    "sns.histplot(response_sim_A, bins=[0, 2, 4, 6, 8, 10, 12, 14, 16, 18, 20, 22, 24, 26, 28, 30], kde=True, color='red')\n",
    "\n",
    "plt.show()"
   ]
  },
  {
   "cell_type": "code",
   "execution_count": null,
   "metadata": {},
   "outputs": [],
   "source": [
    "df_sim = pd.read_csv(\"C:/Users/erikm/Documents/Master/ambulance-optimization/output/simulation/dispatch_urgency_incidents.csv\")\n",
    "\n",
    "df_sim_A = df_sim[df_sim[\"urgency\"] == \"A\"]\n",
    "\n",
    "response_sim_A = df_sim_A[\"pop_prop_response\"] / 60\n",
    "\n",
    "ax = sns.displot(response_sim_A, kde=True, color='red')\n",
    "ax.set(xlabel='Response time ', ylabel='Frequency')\n"
   ]
  },
  {
   "cell_type": "code",
   "execution_count": null,
   "metadata": {},
   "outputs": [],
   "source": [
    "df_sim_H = df_sim[df_sim[\"urgency\"] == \"H\"]\n",
    "\n",
    "response_sim_H = df_sim_H[\"pop_prop_response\"] / 60\n",
    "\n",
    "ax = sns.displot(response_sim_H, kde=True, color='orange')\n",
    "ax.set(xlabel='Response time ', ylabel='Frequency')"
   ]
  },
  {
   "cell_type": "code",
   "execution_count": null,
   "metadata": {},
   "outputs": [],
   "source": [
    "sns.histplot(response_sim_H, bins=[0, 2, 4, 6, 8, 10, 12, 14, 16, 18, 20, 22, 24, 26, 28, 30], kde=True, color='yellow')\n",
    "sns.histplot(response_sim_A, bins=[0, 2, 4, 6, 8, 10, 12, 14, 16, 18, 20, 22, 24, 26, 28, 30], kde=True, color='red')\n",
    "\n",
    "plt.show()"
   ]
  },
  {
   "cell_type": "code",
   "execution_count": null,
   "metadata": {},
   "outputs": [],
   "source": [
    "from matplotlib.colors import ListedColormap\n",
    "\n",
    "import matplotlib.pyplot as plt\n",
    "import numpy as np\n",
    "\n",
    "HEATMAP_COLORS = {\n",
    "    '≥ 2.5':              '#8b0000',\n",
    "    '2.03 - 2.5':         '#c0392b',\n",
    "    '1.56 - 2.03':        '#d35400',\n",
    "    '0.63 - 1.56':        '#e67e22',\n",
    "    '0.25 - 0.63':        '#f1c40f',\n",
    "    '0.1 - 0.25':         '#f7dc6f',\n",
    "    '0 - 0.1':            '#fdebd0'\n",
    "}\n",
    "\n",
    "fig, ax = plt.subplots(figsize=(6, 0.5))\n",
    "fig.subplots_adjust(bottom=0.5)\n",
    "\n",
    "values = list(HEATMAP_COLORS.keys())\n",
    "colors = list(HEATMAP_COLORS.values())\n",
    "\n",
    "# Create a colormap from the colors\n",
    "cmap = plt.cm.colors.ListedColormap(colors)\n",
    "\n",
    "# Create a colorbar\n",
    "bounds = np.linspace(0,len(values),len(values)+1)\n",
    "norm = plt.cm.colors.BoundaryNorm(bounds, cmap.N)\n",
    "cb = plt.colorbar(plt.cm.ScalarMappable(norm=norm, cmap=cmap),\n",
    "                  cax=ax,\n",
    "                  orientation='horizontal',\n",
    "                  ticks=np.linspace(0.5,len(values)-0.5,len(values)),\n",
    "                  boundaries=bounds)\n",
    "\n",
    "# Set the tick labels\n",
    "cb.ax.set_xticklabels(values)\n",
    "plt.xticks(rotation=90)\n",
    "\n",
    "# Adjust the spacing between the tick labels\n",
    "plt.tight_layout()\n",
    "\n",
    "# Display the colorbar\n",
    "plt.show()"
   ]
  },
  {
   "cell_type": "code",
   "execution_count": null,
   "metadata": {},
   "outputs": [],
   "source": []
  }
 ],
 "metadata": {
  "kernelspec": {
   "display_name": "Python 3.9.12 ('base')",
   "language": "python",
   "name": "python3"
  },
  "language_info": {
   "codemirror_mode": {
    "name": "ipython",
    "version": 3
   },
   "file_extension": ".py",
   "mimetype": "text/x-python",
   "name": "python",
   "nbconvert_exporter": "python",
   "pygments_lexer": "ipython3",
   "version": "3.10.9"
  },
  "orig_nbformat": 4,
  "vscode": {
   "interpreter": {
    "hash": "fa77eca7aa996a555850794f2a26a0d8629bdbc9fd4949f950fddbc24af0be25"
   }
  }
 },
 "nbformat": 4,
 "nbformat_minor": 2
}
