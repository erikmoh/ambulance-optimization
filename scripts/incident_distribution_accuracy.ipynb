{
 "cells": [
  {
   "cell_type": "code",
   "execution_count": null,
   "metadata": {},
   "outputs": [],
   "source": [
    "import json\n",
    "import copy\n",
    "import pandas as pd\n",
    "from tqdm import tqdm\n",
    "from datetime import datetime\n",
    "from sklearn.metrics import mean_absolute_error, mean_squared_error, accuracy_score\n",
    "\n",
    "from coordinate_converter import utm_to_ssb_grid_id"
   ]
  },
  {
   "cell_type": "code",
   "execution_count": null,
   "metadata": {},
   "outputs": [],
   "source": [
    "TRUTHS = \"data/incidents_distribution/station_truths.json\"\n",
    "AVERAGE = \"data/incidents_distribution/station_avg.json\"\n",
    "PREDICTIONS = \"data/incidents_distribution/station_predictions.json\"\n",
    "\n",
    "truths_file = json.load(open(TRUTHS, 'r'))\n",
    "averages_file = json.load(open(AVERAGE, 'r'))\n",
    "predictions_file = json.load(open(PREDICTIONS, 'r'))\n",
    "\n",
    "truths = []\n",
    "averages = []\n",
    "predictions = []\n",
    "\n",
    "for station in range(0, 19):\n",
    "    for day in range(6, 14):\n",
    "        for hour in range(0, 24):\n",
    "            date = datetime(2017, 8, day)\n",
    "            weekday = date.isocalendar().weekday\n",
    "            \n",
    "            truth = truths_file[str(station)][str(2017)][str(8)][str(day)][str(hour)]\n",
    "            average = averages_file[str(station)][str(8)][str(weekday)][str(hour)]\n",
    "            prediction = predictions_file[str(station)][str(day)][str(hour)]\n",
    "\n",
    "            truths.append(truth)\n",
    "            averages.append(average)\n",
    "            predictions.append(prediction)"
   ]
  },
  {
   "cell_type": "code",
   "execution_count": null,
   "metadata": {},
   "outputs": [],
   "source": [
    "print(\"average\")\n",
    "print(\"mean absolute error:\", mean_absolute_error(truths, averages))\n",
    "print(\"mean square error:\", mean_squared_error(truths, averages))\n",
    "\n",
    "print(\"prediction\")\n",
    "print(\"mean absolute error:\", mean_absolute_error(truths, predictions))\n",
    "print(\"mean square error:\", mean_squared_error(truths, predictions))\n",
    "\n",
    "print(\"average\")\n",
    "for i in [(round(p, 3), round(t, 3)) for p, t in zip(averages, truths)]:\n",
    "    print(i)\n",
    "\n",
    "print(\"prediction\")\n",
    "for i in [(round(p, 3), round(t, 3)) for p, t in zip(predictions, truths)]:\n",
    "    print(i)"
   ]
  }
 ],
 "metadata": {
  "kernelspec": {
   "display_name": "Python 3",
   "language": "python",
   "name": "python3"
  },
  "language_info": {
   "codemirror_mode": {
    "name": "ipython",
    "version": 3
   },
   "file_extension": ".py",
   "mimetype": "text/x-python",
   "name": "python",
   "nbconvert_exporter": "python",
   "pygments_lexer": "ipython3",
   "version": "3.10.9"
  },
  "orig_nbformat": 4
 },
 "nbformat": 4,
 "nbformat_minor": 2
}
