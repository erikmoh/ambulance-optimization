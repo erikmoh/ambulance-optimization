{
 "cells": [
  {
   "cell_type": "code",
   "execution_count": 2,
   "metadata": {},
   "outputs": [],
   "source": [
    "import osmnx as ox\n",
    "import networkx as nx\n",
    "from coordinate_converter import node_to_id\n",
    "\n",
    "from path_distance_matrix import init, load_coordinates, get_closest_grids, get_route_info\n",
    "\n",
    "import PyQt5\n",
    "import matplotlib.pyplot as plt\n",
    "%matplotlib qt"
   ]
  },
  {
   "cell_type": "code",
   "execution_count": 3,
   "metadata": {},
   "outputs": [
    {
     "name": "stdout",
     "output_type": "stream",
     "text": [
      "Loading graph...\n"
     ]
    }
   ],
   "source": [
    "print(\"Loading graph...\")\n",
    "# Initialize the reader\n",
    "G = ox.load_graphml('data/osm/simplified.graphml', edge_dtypes={\"oneway\": str}, node_dtypes={\"osmid\": float})"
   ]
  },
  {
   "cell_type": "code",
   "execution_count": 4,
   "metadata": {},
   "outputs": [
    {
     "name": "stdout",
     "output_type": "stream",
     "text": [
      "Plotting graph...\n"
     ]
    },
    {
     "data": {
      "text/plain": [
       "(<Figure size 800x800 with 1 Axes>, <AxesSubplot: >)"
      ]
     },
     "execution_count": 4,
     "metadata": {},
     "output_type": "execute_result"
    }
   ],
   "source": [
    "print(\"Plotting graph...\")\n",
    "ox.plot_graph(G)"
   ]
  },
  {
   "cell_type": "code",
   "execution_count": 4,
   "metadata": {},
   "outputs": [
    {
     "name": "stdout",
     "output_type": "stream",
     "text": [
      "Getting coordinates from csv...\n",
      "Finding the nodes' closest grids...\n",
      "Creating ssb ids from coordinates...\n"
     ]
    }
   ],
   "source": [
    "print(\"Getting coordinates from csv...\")\n",
    "combined, ids, xs, ys, grids = load_coordinates()\n",
    "\n",
    "print(\"Finding the nodes' closest grids...\")\n",
    "closest_grids = get_closest_grids(G, grids)\n",
    "\n",
    "print(\"Creating ssb ids from coordinates...\")\n",
    "ssb_ids = [node_to_id(id, type, xs, ys) for id, _, _, type in combined.itertuples()]"
   ]
  },
  {
   "cell_type": "code",
   "execution_count": 5,
   "metadata": {},
   "outputs": [
    {
     "ename": "KeyboardInterrupt",
     "evalue": "",
     "output_type": "error",
     "traceback": [
      "\u001b[1;31m---------------------------------------------------------------------------\u001b[0m",
      "\u001b[1;31mKeyboardInterrupt\u001b[0m                         Traceback (most recent call last)",
      "Cell \u001b[1;32mIn[5], line 11\u001b[0m\n\u001b[0;32m      8\u001b[0m route \u001b[39m=\u001b[39m nx\u001b[39m.\u001b[39mshortest_path(G, a, b, weight\u001b[39m=\u001b[39m\u001b[39m\"\u001b[39m\u001b[39mtravel_time\u001b[39m\u001b[39m\"\u001b[39m)\n\u001b[0;32m     10\u001b[0m \u001b[39m# get travel time and route grids\u001b[39;00m\n\u001b[1;32m---> 11\u001b[0m travel_time, route_grids \u001b[39m=\u001b[39m get_route_info(G, ssb_ids, route, closest_grids)\n\u001b[0;32m     13\u001b[0m \u001b[39mprint\u001b[39m(travel_time)\n\u001b[0;32m     14\u001b[0m \u001b[39mprint\u001b[39m(route_grids)\n",
      "File \u001b[1;32mc:\\Users\\erikm\\Documents\\Studie\\Master\\ambulance-optimization\\scripts\\path_distance_matrix.py:147\u001b[0m, in \u001b[0;36mget_route_info\u001b[1;34m(G, ssb_ids, route, closest_grids)\u001b[0m\n\u001b[0;32m    145\u001b[0m \u001b[39mfor\u001b[39;00m u, v \u001b[39min\u001b[39;00m \u001b[39mzip\u001b[39m(route[:\u001b[39m-\u001b[39m\u001b[39m1\u001b[39m], route[\u001b[39m1\u001b[39m:]):\n\u001b[0;32m    146\u001b[0m     edge \u001b[39m=\u001b[39m G\u001b[39m.\u001b[39medges[(u, v, \u001b[39m0\u001b[39m)]\n\u001b[1;32m--> 147\u001b[0m     edge_time \u001b[39m=\u001b[39m edge[\u001b[39m\"\u001b[39m\u001b[39mtravel_time\u001b[39m\u001b[39m\"\u001b[39m]\n\u001b[0;32m    148\u001b[0m     travel_time \u001b[39m+\u001b[39m\u001b[39m=\u001b[39m edge_time\n\u001b[0;32m    149\u001b[0m     section_time \u001b[39m+\u001b[39m\u001b[39m=\u001b[39m edge_time\n",
      "File \u001b[1;32mc:\\Users\\erikm\\Documents\\Studie\\Master\\ambulance-optimization\\scripts\\path_distance_matrix.py:147\u001b[0m, in \u001b[0;36mget_route_info\u001b[1;34m(G, ssb_ids, route, closest_grids)\u001b[0m\n\u001b[0;32m    145\u001b[0m \u001b[39mfor\u001b[39;00m u, v \u001b[39min\u001b[39;00m \u001b[39mzip\u001b[39m(route[:\u001b[39m-\u001b[39m\u001b[39m1\u001b[39m], route[\u001b[39m1\u001b[39m:]):\n\u001b[0;32m    146\u001b[0m     edge \u001b[39m=\u001b[39m G\u001b[39m.\u001b[39medges[(u, v, \u001b[39m0\u001b[39m)]\n\u001b[1;32m--> 147\u001b[0m     edge_time \u001b[39m=\u001b[39m edge[\u001b[39m\"\u001b[39m\u001b[39mtravel_time\u001b[39m\u001b[39m\"\u001b[39m]\n\u001b[0;32m    148\u001b[0m     travel_time \u001b[39m+\u001b[39m\u001b[39m=\u001b[39m edge_time\n\u001b[0;32m    149\u001b[0m     section_time \u001b[39m+\u001b[39m\u001b[39m=\u001b[39m edge_time\n",
      "File \u001b[1;32m_pydevd_bundle/pydevd_cython.pyx:1457\u001b[0m, in \u001b[0;36m_pydevd_bundle.pydevd_cython.SafeCallWrapper.__call__\u001b[1;34m()\u001b[0m\n",
      "File \u001b[1;32m_pydevd_bundle/pydevd_cython.pyx:701\u001b[0m, in \u001b[0;36m_pydevd_bundle.pydevd_cython.PyDBFrame.trace_dispatch\u001b[1;34m()\u001b[0m\n",
      "File \u001b[1;32m_pydevd_bundle/pydevd_cython.pyx:1152\u001b[0m, in \u001b[0;36m_pydevd_bundle.pydevd_cython.PyDBFrame.trace_dispatch\u001b[1;34m()\u001b[0m\n",
      "File \u001b[1;32m_pydevd_bundle/pydevd_cython.pyx:1135\u001b[0m, in \u001b[0;36m_pydevd_bundle.pydevd_cython.PyDBFrame.trace_dispatch\u001b[1;34m()\u001b[0m\n",
      "File \u001b[1;32m_pydevd_bundle/pydevd_cython.pyx:312\u001b[0m, in \u001b[0;36m_pydevd_bundle.pydevd_cython.PyDBFrame.do_wait_suspend\u001b[1;34m()\u001b[0m\n",
      "File \u001b[1;32m~\\AppData\\Roaming\\Python\\Python310\\site-packages\\debugpy\\_vendored\\pydevd\\pydevd.py:2070\u001b[0m, in \u001b[0;36mPyDB.do_wait_suspend\u001b[1;34m(self, thread, frame, event, arg, exception_type)\u001b[0m\n\u001b[0;32m   2067\u001b[0m             from_this_thread\u001b[39m.\u001b[39mappend(frame_custom_thread_id)\n\u001b[0;32m   2069\u001b[0m     \u001b[39mwith\u001b[39;00m \u001b[39mself\u001b[39m\u001b[39m.\u001b[39m_threads_suspended_single_notification\u001b[39m.\u001b[39mnotify_thread_suspended(thread_id, thread, stop_reason):\n\u001b[1;32m-> 2070\u001b[0m         keep_suspended \u001b[39m=\u001b[39m \u001b[39mself\u001b[39;49m\u001b[39m.\u001b[39;49m_do_wait_suspend(thread, frame, event, arg, suspend_type, from_this_thread, frames_tracker)\n\u001b[0;32m   2072\u001b[0m frames_list \u001b[39m=\u001b[39m \u001b[39mNone\u001b[39;00m\n\u001b[0;32m   2074\u001b[0m \u001b[39mif\u001b[39;00m keep_suspended:\n\u001b[0;32m   2075\u001b[0m     \u001b[39m# This means that we should pause again after a set next statement.\u001b[39;00m\n",
      "File \u001b[1;32m~\\AppData\\Roaming\\Python\\Python310\\site-packages\\debugpy\\_vendored\\pydevd\\pydevd.py:2106\u001b[0m, in \u001b[0;36mPyDB._do_wait_suspend\u001b[1;34m(self, thread, frame, event, arg, suspend_type, from_this_thread, frames_tracker)\u001b[0m\n\u001b[0;32m   2103\u001b[0m         \u001b[39mself\u001b[39m\u001b[39m.\u001b[39m_call_input_hook()\n\u001b[0;32m   2105\u001b[0m     \u001b[39mself\u001b[39m\u001b[39m.\u001b[39mprocess_internal_commands()\n\u001b[1;32m-> 2106\u001b[0m     time\u001b[39m.\u001b[39;49msleep(\u001b[39m0.01\u001b[39;49m)\n\u001b[0;32m   2108\u001b[0m \u001b[39mself\u001b[39m\u001b[39m.\u001b[39mcancel_async_evaluation(get_current_thread_id(thread), \u001b[39mstr\u001b[39m(\u001b[39mid\u001b[39m(frame)))\n\u001b[0;32m   2110\u001b[0m \u001b[39m# process any stepping instructions\u001b[39;00m\n",
      "\u001b[1;31mKeyboardInterrupt\u001b[0m: "
     ]
    }
   ],
   "source": [
    "lat_a, lon_a = 60.815155,10.344107\n",
    "lat_b, lon_b = 59.842005,11.340351\n",
    "\n",
    "a, d1 = ox.nearest_nodes(G, lon_a, lat_a, True)\n",
    "b, d2 = ox.nearest_nodes(G, lon_b, lat_b, True)\n",
    "\n",
    "# find shortest path (by travel time)\n",
    "route = nx.shortest_path(G, a, b, weight=\"travel_time\")\n",
    "\n",
    "# get travel time and route grids\n",
    "travel_time, route_grids = get_route_info(G, ssb_ids, route, closest_grids)\n",
    "\n",
    "print(travel_time)\n",
    "print(route_grids)\n",
    "\n",
    "# plot route\n",
    "# ox.plot_graph_route(G, route, route_linewidth=6, node_size=0, bgcolor='k')\n",
    "# 'travel_time', 'length', 'speed_kph'\n",
    "ox.plot_route_folium(G, route, route_width=6, color='#ff0000', fit_bounds=True, tiles='openstreetmap', popup_attribute='travel_time')\n"
   ]
  }
 ],
 "metadata": {
  "kernelspec": {
   "display_name": "Python 3.10.8 64-bit",
   "language": "python",
   "name": "python3"
  },
  "language_info": {
   "codemirror_mode": {
    "name": "ipython",
    "version": 3
   },
   "file_extension": ".py",
   "mimetype": "text/x-python",
   "name": "python",
   "nbconvert_exporter": "python",
   "pygments_lexer": "ipython3",
   "version": "3.10.9 (tags/v3.10.9:1dd9be6, Dec  6 2022, 20:01:21) [MSC v.1934 64 bit (AMD64)]"
  },
  "orig_nbformat": 4,
  "vscode": {
   "interpreter": {
    "hash": "d4a811d5ac078233afb31e03e369e37491729ef21c8e6253c2c4b1b285997043"
   }
  }
 },
 "nbformat": 4,
 "nbformat_minor": 2
}
