{
 "cells": [
  {
   "cell_type": "code",
   "execution_count": null,
   "metadata": {},
   "outputs": [],
   "source": [
    "import json\n",
    "import pandas as pd\n",
    "import matplotlib.pyplot as plt\n",
    "from tqdm import tqdm\n",
    "from statistics import median, mean\n",
    "import numpy as np\n",
    "from coordinate_converter import utm_to_ssb_grid_id\n",
    "\n",
    "print(\"loading data\")\n",
    "df = pd.read_csv(\"proprietary_data/incidents_processed_3.csv\", encoding='utf-8', escapechar='\\\\', parse_dates=True, low_memory=False)\n",
    "urgencies = [[\"A\"], [\"H\"], [\"V\", \"V1\", \"V2\"]]"
   ]
  },
  {
   "cell_type": "code",
   "execution_count": null,
   "metadata": {},
   "outputs": [],
   "source": [
    "start_datetime = pd.to_datetime(\"2017-08-07 00:00:00\")  # Specify the start datetime\n",
    "end_datetime = pd.to_datetime(\"2017-08-14 00:00:00\")  # Specify the end datetime\n",
    "\n",
    "df = df[(pd.to_datetime(df[\"tidspunkt\"]) >= start_datetime) & (pd.to_datetime(df[\"tidspunkt\"]) <= end_datetime)]"
   ]
  },
  {
   "cell_type": "code",
   "execution_count": null,
   "metadata": {},
   "outputs": [],
   "source": [
    "print(\"calculating delay\")\n",
    "df[\"delay\"] = pd.to_datetime(df[\"rykker_ut\"]) - pd.to_datetime(df[\"varslet\"])\n",
    "\n",
    "stop_point = -1\n",
    "time_max = 60*15\n",
    "time_min = 60\n",
    "\n",
    "medians = []\n",
    "\n",
    "print(\"filter and sort:\")\n",
    "for urgency in tqdm(urgencies):\n",
    "    df_urgency = df[df[\"hastegrad\"].isin(urgency)]\n",
    "    df_urgency = pd.TimedeltaIndex(data = df_urgency[\"delay\"])\n",
    "    df_urgency = df_urgency.seconds.values\n",
    "    df_urgency = [u for u in df_urgency if time_min < u < time_max]\n",
    "    df_urgency.sort()\n",
    "    df_urgency = df_urgency[:stop_point]\n",
    "    medians.append(median(df_urgency))\n",
    "    plt.plot(range(len(df_urgency)), df_urgency, label=urgency[0])\n",
    "\n",
    "print(medians)\n",
    "\n",
    "plt.legend()\n",
    "plt.show()"
   ]
  },
  {
   "cell_type": "code",
   "execution_count": null,
   "metadata": {},
   "outputs": [],
   "source": [
    "print(\"calculating delay\")\n",
    "df[\"handling\"] = pd.to_datetime(df[\"varslet\"]) - pd.to_datetime(df[\"tidspunkt\"])\n",
    "\n",
    "stop_point = -1\n",
    "time_max = 60*10 \n",
    "time_min = 0\n",
    "\n",
    "medians_2 =[]\n",
    "\n",
    "print(\"filter and sort:\")\n",
    "for urgency in tqdm(urgencies):\n",
    "    df_urgency = df[df[\"hastegrad\"].isin(urgency)]\n",
    "    df_urgency = pd.TimedeltaIndex(data = df_urgency[\"handling\"])\n",
    "    df_urgency = df_urgency.seconds.values\n",
    "    df_urgency = [u for u in df_urgency if time_min < u < time_max]\n",
    "    df_urgency.sort()\n",
    "    df_urgency = df_urgency[:stop_point]\n",
    "    medians_2.append(median(df_urgency))\n",
    "    plt.plot(range(len(df_urgency)), df_urgency, label=urgency[0])\n",
    "\n",
    "print(medians_2)\n",
    "\n",
    "plt.legend()\n",
    "plt.show()"
   ]
  },
  {
   "cell_type": "code",
   "execution_count": null,
   "metadata": {},
   "outputs": [],
   "source": [
    "od_paths = {}\n",
    "with open(f'data/od_paths.json', 'r') as r:\n",
    "    od_paths = json.load(r)"
   ]
  },
  {
   "cell_type": "code",
   "execution_count": null,
   "metadata": {},
   "outputs": [],
   "source": [
    "import numpy as np\n",
    "\n",
    "print(\"calculating delay\")\n",
    "df[\"hospital\"] = pd.to_datetime(df[\"ledig_transport\"]) - pd.to_datetime(df[\"ank_levsted\"])\n",
    "\n",
    "stop_point = -1\n",
    "time_max = 60*6000\n",
    "time_min = 0\n",
    "\n",
    "medians_3 = []\n",
    "\n",
    "print(\"filter and sort:\")\n",
    "for urgency in tqdm(urgencies):\n",
    "    df_urgency = df[df[\"hastegrad\"].isin(urgency)]\n",
    "    df_urgency = pd.TimedeltaIndex(data = df_urgency[\"hospital\"])\n",
    "    df_urgency = df_urgency.seconds.values\n",
    "    df_urgency = [u for u in df_urgency if time_min < u < time_max]\n",
    "    df_urgency.sort()\n",
    "    df_urgency = df_urgency[:stop_point]\n",
    "    medians_3.append(median(df_urgency))\n",
    "    plt.plot(range(len(df_urgency)), df_urgency, label=urgency[0])\n",
    "\n",
    "print(medians_3)\n",
    "\n",
    "plt.legend()\n",
    "plt.show()"
   ]
  }
 ],
 "metadata": {
  "kernelspec": {
   "display_name": "Python 3",
   "language": "python",
   "name": "python3"
  },
  "language_info": {
   "codemirror_mode": {
    "name": "ipython",
    "version": 3
   },
   "file_extension": ".py",
   "mimetype": "text/x-python",
   "name": "python",
   "nbconvert_exporter": "python",
   "pygments_lexer": "ipython3",
   "version": "3.10.9"
  },
  "orig_nbformat": 4
 },
 "nbformat": 4,
 "nbformat_minor": 2
}
