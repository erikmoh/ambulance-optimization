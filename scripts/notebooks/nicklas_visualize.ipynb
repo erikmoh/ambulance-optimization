{
 "cells": [
  {
   "cell_type": "code",
   "execution_count": null,
   "metadata": {},
   "outputs": [],
   "source": [
    "import os\n",
    "\n",
    "import pandas as pd\n",
    "import matplotlib.pyplot as plt"
   ]
  },
  {
   "cell_type": "code",
   "execution_count": null,
   "metadata": {},
   "outputs": [],
   "source": [
    "# Change directory to root\n",
    "directory = os.getcwd().split('/')[-1]\n",
    "\n",
    "if directory == 'notebooks':\n",
    "    %cd .."
   ]
  },
  {
   "cell_type": "code",
   "execution_count": null,
   "metadata": {},
   "outputs": [],
   "source": [
    "response_times = pd.read_csv('../output/simulation/first_experiment.csv')\n",
    "response_times\n"
   ]
  },
  {
   "cell_type": "code",
   "execution_count": null,
   "metadata": {},
   "outputs": [],
   "source": [
    "response_times.plot()"
   ]
  },
  {
   "cell_type": "code",
   "execution_count": null,
   "metadata": {},
   "outputs": [],
   "source": [
    "response_times['x'] = response_times.index\n",
    "ax = response_times.plot.scatter(x='x', y='uniform', label='uniform')\n",
    "response_times.plot.scatter(x='x', y='random', c='orange', label='random', ax=ax)\n",
    "response_times.plot.scatter(x='x', y='population_proportionate', c='green', label='population_proportionate', ax=ax)\n",
    "ax.plot"
   ]
  },
  {
   "cell_type": "code",
   "execution_count": null,
   "metadata": {},
   "outputs": [],
   "source": [
    "uniform = response_times.uniform\n",
    "random = response_times.random\n",
    "population_proportionate = response_times.population_proportionate\n",
    "\n",
    "initializers = [uniform, random, population_proportionate]\n",
    "\n",
    "for i, initializer in enumerate(initializers):\n",
    "    initializers[i] = initializer.sort_values(ignore_index=True)\n",
    "\n",
    "sorted_response_times = pd.concat(initializers, axis=1)"
   ]
  },
  {
   "cell_type": "code",
   "execution_count": null,
   "metadata": {},
   "outputs": [],
   "source": [
    "sorted_response_times"
   ]
  },
  {
   "cell_type": "code",
   "execution_count": null,
   "metadata": {},
   "outputs": [],
   "source": [
    "sorted_response_times.boxplot()"
   ]
  },
  {
   "cell_type": "code",
   "execution_count": null,
   "metadata": {},
   "outputs": [],
   "source": [
    "plt.hist(sorted_response_times.uniform, 100)"
   ]
  },
  {
   "cell_type": "code",
   "execution_count": null,
   "metadata": {},
   "outputs": [],
   "source": [
    "sorted_response_times['percentage'] = sorted_response_times.index /sorted_response_times.index.size\n",
    "sorted_response_times"
   ]
  },
  {
   "cell_type": "code",
   "execution_count": null,
   "metadata": {},
   "outputs": [],
   "source": [
    "ax = sorted_response_times.plot(x='percentage')\n",
    "ax.figure.savefig('../output/visualization/first_experiment_cumulative.png')"
   ]
  },
  {
   "cell_type": "code",
   "execution_count": null,
   "metadata": {},
   "outputs": [],
   "source": [
    "sorted_response_times"
   ]
  },
  {
   "cell_type": "code",
   "execution_count": null,
   "metadata": {},
   "outputs": [],
   "source": []
  }
 ],
 "metadata": {
  "interpreter": {
   "hash": "bc0700dd7888bcb2b8776e7a2b74dc24bc896d8a4f006f397e7401ce0b98b7bf"
  },
  "kernelspec": {
   "display_name": "Python 3.8.10 ('venv': venv)",
   "language": "python",
   "name": "python3"
  },
  "language_info": {
   "codemirror_mode": {
    "name": "ipython",
    "version": 3
   },
   "file_extension": ".py",
   "mimetype": "text/x-python",
   "name": "python",
   "nbconvert_exporter": "python",
   "pygments_lexer": "ipython3",
   "version": "3.9.7"
  }
 },
 "nbformat": 4,
 "nbformat_minor": 2
}
