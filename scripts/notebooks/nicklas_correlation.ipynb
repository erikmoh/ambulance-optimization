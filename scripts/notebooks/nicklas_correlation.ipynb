{
 "cells": [
  {
   "cell_type": "markdown",
   "metadata": {},
   "source": [
    "# Imports and config"
   ]
  },
  {
   "cell_type": "code",
   "execution_count": null,
   "metadata": {},
   "outputs": [],
   "source": [
    "import os\n",
    "\n",
    "import numpy as np\n",
    "import pandas as pd\n",
    "\n",
    "directory = os.getcwd().split('/')[-1]\n",
    "\n",
    "if directory == 'notebooks':\n",
    "    %cd .."
   ]
  },
  {
   "cell_type": "code",
   "execution_count": null,
   "metadata": {},
   "outputs": [],
   "source": [
    "# Matplotlib & seaborn setup\n",
    "import matplotlib\n",
    "import matplotlib.pyplot as plt\n",
    "import matplotlib.dates as mdates\n",
    "from matplotlib.ticker import FuncFormatter\n",
    "import seaborn as sns\n",
    "\n",
    "\n",
    "sns.set(rc={'figure.figsize':(11, 4)})\n",
    "sns.set_style('ticks')\n",
    "\n",
    "FILE_EXTENSION = '.pdf'\n",
    "\n",
    "font = {\n",
    "    'family': 'serif',\n",
    "    'size': 14\n",
    "}\n",
    "figure = {\n",
    "    'autolayout': True,\n",
    "}\n",
    "matplotlib.rc('font', **font)\n",
    "matplotlib.rc('figure', **figure)\n",
    "\n",
    "if FILE_EXTENSION == '.pdf':\n",
    "    matplotlib.use('PDF')\n",
    "\n",
    "print(f'matplotlib backend: {matplotlib.get_backend()}')"
   ]
  },
  {
   "cell_type": "code",
   "execution_count": null,
   "metadata": {},
   "outputs": [],
   "source": [
    "incidents = pd.read_csv('proprietary_data/processed_data.csv', index_col=0, parse_dates=True).sort_index()\n",
    "incidents"
   ]
  },
  {
   "cell_type": "code",
   "execution_count": null,
   "metadata": {},
   "outputs": [],
   "source": [
    "incidents['ank_hentested'] = pd.to_datetime(incidents['ank_hentested'], dayfirst=True)\n",
    "incidents['ank_hentested']"
   ]
  },
  {
   "cell_type": "code",
   "execution_count": null,
   "metadata": {},
   "outputs": [],
   "source": [
    "incidents = incidents.drop(incidents[incidents.ank_hentested.isna()].index)\n",
    "incidents"
   ]
  },
  {
   "cell_type": "code",
   "execution_count": null,
   "metadata": {},
   "outputs": [],
   "source": [
    "response_times = incidents.ank_hentested - incidents.index\n",
    "response_times = response_times.dt.total_seconds().astype(int)\n",
    "response_times.name = 'response_times' \n",
    "response_times.plot()"
   ]
  },
  {
   "cell_type": "code",
   "execution_count": null,
   "metadata": {},
   "outputs": [],
   "source": [
    "results = pd.read_csv('../output/simulation/first_experiment_response_times.csv', index_col=0, parse_dates=True).sort_index()\n",
    "results = results.drop(results[(results.Uniform > 50000) | (results.UniformRandom > 50000) | (results.Random > 50000) | (results.PopulationProportionate > 50000)].index)\n",
    "results = results.PopulationProportionate\n",
    "results = results.dropna()\n",
    "results"
   ]
  },
  {
   "cell_type": "markdown",
   "metadata": {},
   "source": [
    "## Line up time series"
   ]
  },
  {
   "cell_type": "code",
   "execution_count": null,
   "metadata": {},
   "outputs": [],
   "source": [
    "start_date, end_date = results.index[0], results.index[-1]\n",
    "response_times = response_times[(response_times.index > start_date) & (response_times.index <= end_date)]\n",
    "response_times"
   ]
  },
  {
   "cell_type": "code",
   "execution_count": null,
   "metadata": {},
   "outputs": [],
   "source": [
    "merged = pd.merge_asof(response_times, results, left_index=True, right_index=True, direction='nearest')\n",
    "r = merged.corr()['PopulationProportionate']['response_times']\n",
    "r"
   ]
  },
  {
   "cell_type": "code",
   "execution_count": null,
   "metadata": {},
   "outputs": [],
   "source": [
    "ax = response_times.plot(label='historic')\n",
    "results.plot(label='simulated', ax=ax)\n",
    "\n",
    "ax.set(xlabel='day', ylabel='response time / (s)')\n",
    "ax.set_title(f'Overall Pearson $r$ = {r:.4f}')\n",
    "\n",
    "plt.legend()\n",
    "plt.savefig(f'../output/validation/response_times_correlation{FILE_EXTENSION}')"
   ]
  },
  {
   "cell_type": "code",
   "execution_count": null,
   "metadata": {},
   "outputs": [],
   "source": []
  },
  {
   "cell_type": "markdown",
   "metadata": {},
   "source": [
    "# Resampling"
   ]
  },
  {
   "cell_type": "code",
   "execution_count": null,
   "metadata": {},
   "outputs": [],
   "source": [
    "response_times_hourly = pd.Series(response_times.resample('H').mean())\n",
    "response_times_hourly = response_times_hourly.sort_index()\n",
    "\n",
    "results_hourly = pd.Series(results.resample('H').mean())\n",
    "results_hourly = results_hourly.sort_index()\n",
    "\n",
    "ax = response_times_hourly.plot(label='historic')\n",
    "results_hourly.plot(label='simulated')\n",
    "\n",
    "ax.set(xlabel='Day', ylabel='Mean response time')\n",
    "\n",
    "plt.legend()\n",
    "plt.plot()"
   ]
  },
  {
   "cell_type": "markdown",
   "metadata": {},
   "source": [
    "## Daily incidents"
   ]
  },
  {
   "cell_type": "code",
   "execution_count": null,
   "metadata": {},
   "outputs": [],
   "source": [
    "response_times_daily =  pd.Series(response_times.resample('D').mean())\n",
    "results_daily =  pd.Series(results.resample('D').mean())\n",
    "\n",
    "ax = response_times_daily.plot(label='historic')\n",
    "results_daily.plot(label='simulated')\n",
    "\n",
    "ax.set(xlabel='Day', ylabel='Mean response time')\n",
    "\n",
    "plt.legend()\n",
    "plt.plot()"
   ]
  },
  {
   "cell_type": "markdown",
   "metadata": {},
   "source": [
    "## Aggregated weekly average"
   ]
  },
  {
   "cell_type": "code",
   "execution_count": null,
   "metadata": {},
   "outputs": [],
   "source": [
    "response_times_weekly_average = response_times_hourly \\\n",
    "    .groupby([response_times_hourly.index.weekday, response_times_hourly.index.hour]) \\\n",
    "    .agg(['mean', 'std'])\n",
    "\n",
    "reference_week = pd.date_range(start='1/5/2015', end='1/12/2015', closed='left', freq='H')\n",
    "response_times_weekly_average = response_times_weekly_average.set_index(reference_week)\n",
    "response_times_weekly_average['weekday'] = response_times_weekly_average.index.weekday\n",
    "\n",
    "results_weekly_average = results_hourly \\\n",
    "    .groupby([results_hourly.index.weekday, results_hourly.index.hour]) \\\n",
    "    .agg(['mean', 'std'])\n",
    "\n",
    "reference_week = pd.date_range(start='1/5/2015', end='1/12/2015', closed='left', freq='H')\n",
    "results_weekly_average = results_weekly_average.set_index(reference_week)\n",
    "results_weekly_average['weekday'] = results_weekly_average.index.weekday\n"
   ]
  },
  {
   "cell_type": "markdown",
   "metadata": {},
   "source": [
    "## Hourly average"
   ]
  },
  {
   "cell_type": "code",
   "execution_count": null,
   "metadata": {},
   "outputs": [],
   "source": [
    "ax = response_times_hourly.groupby(response_times_hourly.index.hour).mean().plot.line(label='historic')\n",
    "results_hourly.groupby(results_hourly.index.hour).mean().plot.line(label='simulated', ax=ax)\n",
    "\n",
    "ax.set(xlabel='hour of the day', ylabel='mean response time / (s)')\n",
    "\n",
    "sns.despine()\n",
    "\n",
    "ax.set_ylim(bottom=0)\n",
    "ax.set_xlim(left=0)\n",
    "\n",
    "ax.grid()\n",
    "ax.xaxis.set_ticks(np.arange(0, 25, 1))\n",
    "\n",
    "plt.legend()\n",
    "plt.plot"
   ]
  },
  {
   "cell_type": "markdown",
   "metadata": {},
   "source": [
    "## Per day average "
   ]
  },
  {
   "cell_type": "code",
   "execution_count": null,
   "metadata": {},
   "outputs": [],
   "source": [
    "\n",
    "ax = sns.lineplot(data=response_times_weekly_average, x=response_times_weekly_average.index, y='mean', label='historic')\n",
    "sns.lineplot(data=results_weekly_average, x=results_weekly_average.index, y='mean', label='simulated', ax=ax)\n",
    "ax.set(xlabel='Time of week', ylabel='Mean response time')\n",
    "\n",
    "sns.despine()\n",
    "\n",
    "ax.set_xlim([response_times_weekly_average.index[0], response_times_weekly_average.index[-1]])\n",
    "ax.set_ylim(bottom=0)\n",
    "\n",
    "# Minor axis\n",
    "ax.grid(b=True, which='minor', color='rosybrown', linestyle='--')\n",
    "ax.xaxis.set_minor_locator(mdates.HourLocator(byhour=[6, 12, 18]))\n",
    "ax.xaxis.set_minor_formatter(mdates.DateFormatter('%H'))\n",
    "\n",
    "# Major axis\n",
    "ax.grid(b=True, which='major')\n",
    "ax.tick_params(which='major', axis='x', length=17.5, width=1)\n",
    "ax.xaxis.set_major_locator(mdates.DayLocator())\n",
    "ax.xaxis.set_major_formatter(mdates.DateFormatter('%A'))\n",
    "\n",
    "plt.tight_layout()\n",
    "plt.plot()"
   ]
  },
  {
   "cell_type": "code",
   "execution_count": null,
   "metadata": {},
   "outputs": [],
   "source": []
  }
 ],
 "metadata": {
  "interpreter": {
   "hash": "f184aa211d1f81305dbc20d7c09977a60945f02e46fae10caf77f0aa95bb8618"
  },
  "kernelspec": {
   "display_name": "Python 3.9.7 ('venv': venv)",
   "language": "python",
   "name": "python3"
  },
  "language_info": {
   "codemirror_mode": {
    "name": "ipython",
    "version": 3
   },
   "file_extension": ".py",
   "mimetype": "text/x-python",
   "name": "python",
   "nbconvert_exporter": "python",
   "pygments_lexer": "ipython3",
   "version": "3.9.7"
  }
 },
 "nbformat": 4,
 "nbformat_minor": 2
}
