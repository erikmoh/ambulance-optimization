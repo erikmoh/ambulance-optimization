{
 "cells": [
  {
   "cell_type": "markdown",
   "metadata": {},
   "source": [
    "# Imports and config"
   ]
  },
  {
   "cell_type": "code",
   "execution_count": null,
   "metadata": {},
   "outputs": [],
   "source": [
    "import os\n",
    "\n",
    "import numpy as np\n",
    "import pandas as pd\n",
    "\n",
    "directory = os.getcwd().split('/')[-1]\n",
    "\n",
    "if directory == 'notebooks':\n",
    "    %cd .."
   ]
  },
  {
   "cell_type": "code",
   "execution_count": null,
   "metadata": {},
   "outputs": [],
   "source": [
    "# Matplotlib & seaborn setup\n",
    "import matplotlib\n",
    "import matplotlib.pyplot as plt\n",
    "import matplotlib.dates as mdates\n",
    "from matplotlib.ticker import FuncFormatter\n",
    "import seaborn as sns\n",
    "\n",
    "\n",
    "sns.set(rc={'figure.figsize':(11, 4)})\n",
    "sns.set_style('ticks')\n",
    "\n",
    "FILE_EXTENSION = '.pdf'\n",
    "\n",
    "font = {\n",
    "    'family': 'serif',\n",
    "    'size': 14\n",
    "}\n",
    "figure = {\n",
    "    'autolayout': True,\n",
    "}\n",
    "matplotlib.rc('font', **font)\n",
    "matplotlib.rc('figure', **figure)\n",
    "\n",
    "if FILE_EXTENSION == '.pdf':\n",
    "    matplotlib.use('PDF')\n",
    "\n",
    "print(f'matplotlib backend: {matplotlib.get_backend()}')"
   ]
  },
  {
   "cell_type": "code",
   "execution_count": null,
   "metadata": {},
   "outputs": [],
   "source": [
    "# configuration variables\n",
    "should_save = True"
   ]
  },
  {
   "cell_type": "code",
   "execution_count": null,
   "metadata": {},
   "outputs": [],
   "source": [
    "processed = pd.read_csv('proprietary_data/processed_data.csv', index_col=0, parse_dates=True).sort_index()\n",
    "unprocessed = pd.read_csv('proprietary_data/half_processed_data.csv', index_col=0, parse_dates=True).sort_index()"
   ]
  },
  {
   "cell_type": "code",
   "execution_count": null,
   "metadata": {},
   "outputs": [],
   "source": [
    "processed = processed[processed.index.year == 2018]\n",
    "processed"
   ]
  },
  {
   "cell_type": "code",
   "execution_count": null,
   "metadata": {},
   "outputs": [],
   "source": [
    "unprocessed"
   ]
  },
  {
   "cell_type": "markdown",
   "metadata": {},
   "source": [
    "# Resampling"
   ]
  },
  {
   "cell_type": "code",
   "execution_count": null,
   "metadata": {},
   "outputs": [],
   "source": [
    "processed_hourly = pd.DataFrame(processed.resample('H').count()['hastegrad'])\n",
    "processed_hourly = processed_hourly.rename(columns={'hastegrad': 'processed'})\n",
    "processed_hourly = processed_hourly.sort_index()\n",
    "\n",
    "unprocessed_hourly = pd.DataFrame(unprocessed.resample('H').count()['hastegrad'])\n",
    "unprocessed_hourly = unprocessed_hourly.rename(columns={'hastegrad': 'unprocessed'})\n",
    "unprocessed_hourly = unprocessed_hourly.sort_index()"
   ]
  },
  {
   "cell_type": "markdown",
   "metadata": {},
   "source": [
    "## Hourly incidents"
   ]
  },
  {
   "cell_type": "code",
   "execution_count": null,
   "metadata": {},
   "outputs": [],
   "source": [
    "processed_hourly['hour'] = processed_hourly.index.hour\n",
    "processed_hourly['day'] = processed_hourly.index.day\n",
    "processed_hourly['month'] = processed_hourly.index.month\n",
    "processed_hourly['year'] = processed_hourly.index.year\n",
    "processed_hourly['weekday'] = processed_hourly.index.weekday\n",
    "\n",
    "unprocessed_hourly['hour'] = unprocessed_hourly.index.hour\n",
    "unprocessed_hourly['day'] = unprocessed_hourly.index.day\n",
    "unprocessed_hourly['month'] = unprocessed_hourly.index.month\n",
    "unprocessed_hourly['year'] = unprocessed_hourly.index.year\n",
    "unprocessed_hourly['weekday'] = unprocessed_hourly.index.weekday"
   ]
  },
  {
   "cell_type": "code",
   "execution_count": null,
   "metadata": {},
   "outputs": [],
   "source": [
    "processed_hourly"
   ]
  },
  {
   "cell_type": "markdown",
   "metadata": {},
   "source": [
    "## Daily incidents"
   ]
  },
  {
   "cell_type": "code",
   "execution_count": null,
   "metadata": {},
   "outputs": [],
   "source": [
    "processed_daily =  pd.DataFrame(processed_hourly['processed'].resample('D').sum())\n",
    "processed_daily['month'] = processed_daily.index.month\n",
    "processed_daily['year'] = processed_daily.index.year\n",
    "processed_daily['weekday'] = processed_daily.index.weekday\n",
    "\n",
    "unprocessed_daily =  pd.DataFrame(unprocessed_hourly['unprocessed'].resample('D').sum())\n",
    "unprocessed_daily['month'] = unprocessed_daily.index.month\n",
    "unprocessed_daily['year'] = unprocessed_daily.index.year\n",
    "unprocessed_daily['weekday'] = unprocessed_daily.index.weekday"
   ]
  },
  {
   "cell_type": "markdown",
   "metadata": {},
   "source": [
    "## Aggregated weekly average"
   ]
  },
  {
   "cell_type": "code",
   "execution_count": null,
   "metadata": {},
   "outputs": [],
   "source": [
    "processed_weekly_average = processed_hourly['processed'] \\\n",
    "    .groupby([processed_hourly.weekday, processed_hourly.hour]) \\\n",
    "    .agg(['mean', 'std'])\n",
    "\n",
    "reference_week = pd.date_range(start='1/5/2015', end='1/12/2015', closed='left', freq='H')\n",
    "processed_weekly_average = processed_weekly_average.set_index(reference_week)\n",
    "processed_weekly_average['weekday'] = processed_weekly_average.index.weekday\n",
    "\n",
    "unprocessed_weekly_average = unprocessed_hourly['unprocessed'] \\\n",
    "    .groupby([unprocessed_hourly.weekday, unprocessed_hourly.hour]) \\\n",
    "    .agg(['mean', 'std'])\n",
    "\n",
    "reference_week = pd.date_range(start='1/5/2015', end='1/12/2015', closed='left', freq='H')\n",
    "unprocessed_weekly_average = unprocessed_weekly_average.set_index(reference_week)\n",
    "unprocessed_weekly_average['weekday'] = unprocessed_weekly_average.index.weekday\n"
   ]
  },
  {
   "cell_type": "markdown",
   "metadata": {},
   "source": [
    "## Monthly incidents"
   ]
  },
  {
   "cell_type": "code",
   "execution_count": null,
   "metadata": {},
   "outputs": [],
   "source": [
    "processed_monthly =  pd.DataFrame(processed_daily['processed'].resample('M').sum())\n",
    "processed_monthly['year'] = processed_monthly.index.year\n",
    "\n",
    "unprocessed_monthly =  pd.DataFrame(unprocessed_daily['unprocessed'].resample('M').sum())\n",
    "unprocessed_monthly['year'] = unprocessed_monthly.index.year"
   ]
  },
  {
   "cell_type": "markdown",
   "metadata": {},
   "source": [
    "## Yearly incidents"
   ]
  },
  {
   "cell_type": "code",
   "execution_count": null,
   "metadata": {},
   "outputs": [],
   "source": [
    "processed_yearly =  pd.DataFrame(processed_monthly['processed'].resample('Y').sum())\n",
    "\n",
    "unprocessed_yearly =  pd.DataFrame(unprocessed_monthly['unprocessed'].resample('Y').sum())"
   ]
  },
  {
   "cell_type": "markdown",
   "metadata": {},
   "source": [
    "# Plotting"
   ]
  },
  {
   "cell_type": "markdown",
   "metadata": {},
   "source": [
    "## Incidents per day"
   ]
  },
  {
   "cell_type": "code",
   "execution_count": null,
   "metadata": {},
   "outputs": [],
   "source": [
    "x, y = processed_daily.index, processed_daily.processed\n",
    "ax = sns.lineplot(data=processed_daily, x=x, y=y)\n",
    "ax.set(xlabel='Time', ylabel='Incidents per day')\n",
    "\n",
    "rolling_mean = y.rolling(window=30, center=True, min_periods=28).mean()\n",
    "ax.plot(rolling_mean, 'k-', label='30-days rolling mean')\n",
    "\n",
    "x = mdates.date2num(x)\n",
    "z = np.polyfit(x, y, 1)\n",
    "p = np.poly1d(z)\n",
    "ax.plot(x, p(x), linestyle='-.', color='red', label='Trend line')\n",
    "\n",
    "\n",
    "sns.despine()\n",
    "ax.legend()\n",
    "\n",
    "ax.set_xlim(left=processed_daily.index[0])\n",
    "\n",
    "# Minor axis\n",
    "ax.grid(b=True, which='minor')\n",
    "ax.xaxis.set_minor_locator(mdates.MonthLocator(bymonth=[4, 7, 10]))\n",
    "ax.xaxis.set_minor_formatter(mdates.DateFormatter('%b'))\n",
    "\n",
    "# Major axis\n",
    "ax.grid(b=True, which='major')\n",
    "ax.tick_params(which='major', axis='x', length=15, width=1)\n",
    "ax.xaxis.set_major_locator(mdates.YearLocator())\n",
    "ax.xaxis.set_major_formatter(mdates.DateFormatter('%Y'))\n",
    "\n",
    "plt.tight_layout()\n",
    "\n",
    "plt.plot()\n"
   ]
  },
  {
   "cell_type": "code",
   "execution_count": null,
   "metadata": {},
   "outputs": [],
   "source": [
    "x, y = unprocessed_daily.index, unprocessed_daily.unprocessed\n",
    "ax = sns.lineplot(data=unprocessed_daily, x=x, y=y)\n",
    "ax.set(xlabel='Time', ylabel='Incidents per day')\n",
    "\n",
    "rolling_mean = y.rolling(window=30, center=True, min_periods=28).mean()\n",
    "ax.plot(rolling_mean, 'k-', label='30-days rolling mean')\n",
    "\n",
    "x = mdates.date2num(x)\n",
    "z = np.polyfit(x, y, 1)\n",
    "p = np.poly1d(z)\n",
    "ax.plot(x, p(x), linestyle='-.', color='red', label='Trend line')\n",
    "\n",
    "\n",
    "sns.despine()\n",
    "ax.legend()\n",
    "\n",
    "ax.set_xlim(left=unprocessed_daily.index[0])\n",
    "\n",
    "# Minor axis\n",
    "ax.grid(b=True, which='minor')\n",
    "ax.xaxis.set_minor_locator(mdates.MonthLocator(bymonth=[4, 7, 10]))\n",
    "ax.xaxis.set_minor_formatter(mdates.DateFormatter('%b'))\n",
    "\n",
    "# Major axis\n",
    "ax.grid(b=True, which='major')\n",
    "ax.tick_params(which='major', axis='x', length=15, width=1)\n",
    "ax.xaxis.set_major_locator(mdates.YearLocator())\n",
    "ax.xaxis.set_major_formatter(mdates.DateFormatter('%Y'))\n",
    "\n",
    "plt.tight_layout()\n",
    "\n",
    "plt.plot()\n"
   ]
  },
  {
   "cell_type": "markdown",
   "metadata": {},
   "source": [
    "## Monthly plots"
   ]
  },
  {
   "cell_type": "code",
   "execution_count": null,
   "metadata": {},
   "outputs": [],
   "source": [
    "def int_to_month(x, _):\n",
    "    months = [\n",
    "        'Jan',\n",
    "        'Feb',\n",
    "        'Mar',\n",
    "        'Apr',\n",
    "        'May',\n",
    "        'Jun',\n",
    "        'Jul',\n",
    "        'Aug',\n",
    "        'Sep',\n",
    "        'Oct',\n",
    "        'Nov',\n",
    "        'Dec'\n",
    "    ]\n",
    "    return months[x]\n"
   ]
  },
  {
   "cell_type": "code",
   "execution_count": null,
   "metadata": {},
   "outputs": [],
   "source": [
    "ax = sns.violinplot(data=processed_daily, x='month', y='processed')\n",
    "ax.set(xlabel='Month', ylabel='Average incidents per day')\n",
    "\n",
    "sns.despine(trim=True)\n",
    "\n",
    "ax.xaxis.set_major_formatter(FuncFormatter(int_to_month))\n",
    "\n",
    "plt.plot()"
   ]
  },
  {
   "cell_type": "code",
   "execution_count": null,
   "metadata": {},
   "outputs": [],
   "source": [
    "ax = sns.violinplot(data=unprocessed_daily, x='month', y='unprocessed')\n",
    "ax.set(xlabel='Month', ylabel='Average incidents per day')\n",
    "\n",
    "sns.despine(trim=True)\n",
    "\n",
    "ax.xaxis.set_major_formatter(FuncFormatter(int_to_month))\n",
    "\n",
    "plt.plot()"
   ]
  },
  {
   "cell_type": "code",
   "execution_count": null,
   "metadata": {},
   "outputs": [],
   "source": [
    "mean = processed_daily['processed'].mean()\n",
    "deviation = processed_daily['processed'].groupby([processed_daily.month]).mean() - mean\n",
    "\n",
    "ax = sns.barplot(x=deviation.index, y=deviation)\n",
    "ax.set(xlabel='Month', ylabel='Deviation from daily mean')\n",
    "ax.axhline(0, color='k')\n",
    "\n",
    "sns.despine(trim=True)\n",
    "\n",
    "ax.xaxis.set_major_formatter(FuncFormatter(int_to_month))\n",
    "\n",
    "plt.plot()"
   ]
  },
  {
   "cell_type": "code",
   "execution_count": null,
   "metadata": {},
   "outputs": [],
   "source": [
    "mean = unprocessed_daily['unprocessed'].mean()\n",
    "deviation = unprocessed_daily['unprocessed'].groupby([unprocessed_daily.month]).mean() - mean\n",
    "\n",
    "ax = sns.barplot(x=deviation.index, y=deviation)\n",
    "ax.set(xlabel='Month', ylabel='Deviation from daily mean')\n",
    "ax.axhline(0, color='k')\n",
    "\n",
    "sns.despine(trim=True)\n",
    "\n",
    "ax.xaxis.set_major_formatter(FuncFormatter(int_to_month))\n",
    "\n",
    "plt.plot()"
   ]
  },
  {
   "cell_type": "code",
   "execution_count": null,
   "metadata": {},
   "outputs": [],
   "source": [
    "unprocessed_mean = unprocessed_daily['unprocessed'].mean()\n",
    "deviation = processed_daily['processed'].groupby([processed_daily.month]).mean() - unprocessed_mean\n",
    "\n",
    "ax = sns.barplot(x=deviation.index, y=deviation)\n",
    "ax.set(xlabel='Month', ylabel='Deviation from daily mean')\n",
    "ax.axhline(0, color='k')\n",
    "\n",
    "sns.despine(trim=True)\n",
    "\n",
    "ax.xaxis.set_major_formatter(FuncFormatter(int_to_month))\n",
    "\n",
    "plt.plot()"
   ]
  },
  {
   "cell_type": "code",
   "execution_count": null,
   "metadata": {},
   "outputs": [],
   "source": [
    "processed_mean = processed_daily['processed'].mean()\n",
    "unprocessed_mean = unprocessed_daily['unprocessed'].mean()\n",
    "deviation = (processed_daily['processed'].groupby([processed_daily.month]).mean() - processed_mean) - (unprocessed_daily['unprocessed'].groupby([unprocessed_daily.month]).mean() - unprocessed_mean)\n",
    "\n",
    "ax = sns.barplot(x=deviation.index, y=deviation)\n",
    "ax.set(xlabel='Month', ylabel='Deviation from daily mean')\n",
    "ax.axhline(0, color='k')\n",
    "\n",
    "sns.despine(trim=True)\n",
    "\n",
    "ax.xaxis.set_major_formatter(FuncFormatter(int_to_month))\n",
    "\n",
    "plt.plot()"
   ]
  },
  {
   "cell_type": "markdown",
   "metadata": {},
   "source": [
    "## Weekday violin plot"
   ]
  },
  {
   "cell_type": "code",
   "execution_count": null,
   "metadata": {},
   "outputs": [],
   "source": [
    "def int_to_weekday(x, _):\n",
    "    return ['Mon', 'Tue', 'Wed', 'Thu', 'Fri', 'Sat', 'Sun'][x]\n",
    "\n",
    "ax = sns.violinplot(data=processed_hourly, x='weekday', y='processed')\n",
    "ax.set(xlabel='Weekday', ylabel='Average incidents per hour')\n",
    "\n",
    "sns.despine(trim=True)\n",
    "\n",
    "ax.xaxis.set_major_formatter(FuncFormatter(int_to_weekday))\n",
    "\n",
    "plt.plot()"
   ]
  },
  {
   "cell_type": "code",
   "execution_count": null,
   "metadata": {},
   "outputs": [],
   "source": [
    "def int_to_weekday(x, _):\n",
    "    return ['Mon', 'Tue', 'Wed', 'Thu', 'Fri', 'Sat', 'Sun'][x]\n",
    "\n",
    "ax = sns.violinplot(data=unprocessed_hourly, x='weekday', y='unprocessed')\n",
    "ax.set(xlabel='Weekday', ylabel='Average incidents per hour')\n",
    "\n",
    "sns.despine(trim=True)\n",
    "\n",
    "ax.xaxis.set_major_formatter(FuncFormatter(int_to_weekday))\n",
    "\n",
    "plt.plot()"
   ]
  },
  {
   "cell_type": "code",
   "execution_count": null,
   "metadata": {},
   "outputs": [],
   "source": [
    "processed_hourly_december_2018 = processed_hourly[(processed_hourly.month == 12) & (processed_hourly.year == 2018)]\n",
    "processed_hourly_december_2018"
   ]
  },
  {
   "cell_type": "code",
   "execution_count": null,
   "metadata": {},
   "outputs": [],
   "source": [
    "processed_hourly_december_w50_2018 = processed_hourly[processed_hourly.day.between(10, 16) & (processed_hourly.month == 12) & (processed_hourly.month == 12) & (processed_hourly.year == 2018)]\n",
    "processed_hourly_december_w50_2018"
   ]
  },
  {
   "cell_type": "markdown",
   "metadata": {},
   "source": [
    "## Hourly average"
   ]
  },
  {
   "cell_type": "code",
   "execution_count": null,
   "metadata": {},
   "outputs": [],
   "source": [
    "ax = sns.lineplot(data=unprocessed_hourly, x='hour', y='unprocessed', label='unfiltered')\n",
    "sns.lineplot(data=processed_hourly, x='hour', y='processed',  label='filtered', ax=ax)\n",
    "sns.lineplot(data=processed_hourly_december_2018, x='hour', y='processed',  label='December 2018', ax=ax)\n",
    "sns.lineplot(data=processed_hourly_december_w50_2018, x='hour', y='processed',  label='December w50 2018', ax=ax)\n",
    "\n",
    "ax.set(xlabel='Hour of the day', ylabel='Average incidents per hour')\n",
    "\n",
    "sns.despine()\n",
    "\n",
    "ax.set_ylim(bottom=0)\n",
    "ax.set_xlim(left=0)\n",
    "\n",
    "ax.grid()\n",
    "ax.xaxis.set_ticks(np.arange(0, 25, 1))\n",
    "\n",
    "plt.legend()\n",
    "plt.plot()"
   ]
  },
  {
   "cell_type": "markdown",
   "metadata": {},
   "source": [
    "## Per day average "
   ]
  },
  {
   "cell_type": "code",
   "execution_count": null,
   "metadata": {},
   "outputs": [],
   "source": [
    "\n",
    "ax = sns.lineplot(data=processed_weekly_average, x=processed_weekly_average.index, y='mean', label='processed')\n",
    "sns.lineplot(data=unprocessed_weekly_average, x=unprocessed_weekly_average.index, y='mean', ax=ax, label='unprocessed')\n",
    "ax.set(xlabel='Time of week', ylabel='Average incidents per hour')\n",
    "\n",
    "sns.despine()\n",
    "\n",
    "ax.set_xlim([processed_weekly_average.index[0], processed_weekly_average.index[-1]])\n",
    "ax.set_ylim(bottom=0)\n",
    "\n",
    "# Minor axis\n",
    "ax.grid(b=True, which='minor', color='rosybrown', linestyle='--')\n",
    "ax.xaxis.set_minor_locator(mdates.HourLocator(byhour=[6, 12, 18]))\n",
    "ax.xaxis.set_minor_formatter(mdates.DateFormatter('%H'))\n",
    "\n",
    "# Major axis\n",
    "ax.grid(b=True, which='major')\n",
    "ax.tick_params(which='major', axis='x', length=17.5, width=1)\n",
    "ax.xaxis.set_major_locator(mdates.DayLocator())\n",
    "ax.xaxis.set_major_formatter(mdates.DateFormatter('%A'))\n",
    "\n",
    "plt.legend()\n",
    "plt.tight_layout()\n",
    "\n",
    "plt.savefig(f'../output/validation/weekly_average_comparison{FILE_EXTENSION}')"
   ]
  },
  {
   "cell_type": "code",
   "execution_count": null,
   "metadata": {},
   "outputs": [],
   "source": []
  }
 ],
 "metadata": {
  "interpreter": {
   "hash": "f184aa211d1f81305dbc20d7c09977a60945f02e46fae10caf77f0aa95bb8618"
  },
  "kernelspec": {
   "display_name": "Python 3.9.7 ('venv': venv)",
   "language": "python",
   "name": "python3"
  },
  "language_info": {
   "codemirror_mode": {
    "name": "ipython",
    "version": 3
   },
   "file_extension": ".py",
   "mimetype": "text/x-python",
   "name": "python",
   "nbconvert_exporter": "python",
   "pygments_lexer": "ipython3",
   "version": "3.9.7"
  }
 },
 "nbformat": 4,
 "nbformat_minor": 2
}
