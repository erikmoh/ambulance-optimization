{
 "cells": [
  {
   "cell_type": "code",
   "execution_count": null,
   "metadata": {},
   "outputs": [],
   "source": [
    "import os\n",
    "\n",
    "import pandas as pd\n",
    "\n",
    "# Change directory to root\n",
    "directory = os.getcwd().split('/')[-1]\n",
    "\n",
    "if directory == 'notebooks':\n",
    "    %cd .."
   ]
  },
  {
   "cell_type": "code",
   "execution_count": null,
   "metadata": {},
   "outputs": [],
   "source": [
    "incidents_file = 'proprietary_data/processed_data.csv'\n",
    "incidents = pd.read_csv(incidents_file, encoding='utf-8', parse_dates=True)\n",
    "incidents"
   ]
  },
  {
   "cell_type": "code",
   "execution_count": null,
   "metadata": {},
   "outputs": [],
   "source": [
    "incidents.dtypes"
   ]
  },
  {
   "cell_type": "code",
   "execution_count": null,
   "metadata": {},
   "outputs": [],
   "source": [
    "incidents['rykker_ut'] = pd.to_datetime(incidents['rykker_ut'], dayfirst=True)\n",
    "incidents['ank_hentested'] = pd.to_datetime(incidents['ank_hentested'], dayfirst=True)\n",
    "incidents['avg_hentested'] = pd.to_datetime(incidents['avg_hentested'], dayfirst=True)\n",
    "incidents['ledig'] = pd.to_datetime(incidents['ledig'], dayfirst=True)\n",
    "incidents.tidspunkt = pd.to_datetime(incidents.tidspunkt, dayfirst=True)\n",
    "incidents = incidents.set_index('tidspunkt')\n",
    "incidents.sort_index()"
   ]
  },
  {
   "cell_type": "code",
   "execution_count": null,
   "metadata": {},
   "outputs": [],
   "source": [
    "incidents.dtypes"
   ]
  },
  {
   "cell_type": "code",
   "execution_count": null,
   "metadata": {},
   "outputs": [],
   "source": [
    "erroneous_incidents = incidents[incidents.rykker_ut < incidents.index]\n",
    "erroneous_incidents = erroneous_incidents[erroneous_incidents['hastegrad'].isin(['A', 'H'])]\n",
    "#erroneous_incidents = incidents[(incidents.ank_hentested < incidents.index)]\n",
    "erroneous_incidents"
   ]
  },
  {
   "cell_type": "code",
   "execution_count": null,
   "metadata": {},
   "outputs": [],
   "source": []
  },
  {
   "cell_type": "code",
   "execution_count": null,
   "metadata": {},
   "outputs": [],
   "source": []
  },
  {
   "cell_type": "code",
   "execution_count": null,
   "metadata": {},
   "outputs": [],
   "source": []
  },
  {
   "cell_type": "code",
   "execution_count": null,
   "metadata": {},
   "outputs": [],
   "source": []
  },
  {
   "cell_type": "code",
   "execution_count": null,
   "metadata": {},
   "outputs": [],
   "source": [
    "erroneous_incidents.dtypes"
   ]
  },
  {
   "cell_type": "code",
   "execution_count": null,
   "metadata": {},
   "outputs": [],
   "source": []
  }
 ],
 "metadata": {
  "interpreter": {
   "hash": "f5b71bebabd6f5c7fdef6d616c16927609c779e2c8f85ff6b50dc147b8612076"
  },
  "kernelspec": {
   "display_name": "Python 3.8.10 ('venv': venv)",
   "language": "python",
   "name": "python3"
  },
  "language_info": {
   "codemirror_mode": {
    "name": "ipython",
    "version": 3
   },
   "file_extension": ".py",
   "mimetype": "text/x-python",
   "name": "python",
   "nbconvert_exporter": "python",
   "pygments_lexer": "ipython3",
   "version": "3.9.7"
  }
 },
 "nbformat": 4,
 "nbformat_minor": 2
}
