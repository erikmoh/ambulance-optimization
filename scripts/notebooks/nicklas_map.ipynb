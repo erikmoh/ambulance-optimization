{
 "cells": [
  {
   "cell_type": "markdown",
   "metadata": {},
   "source": [
    "# Imports and configuration"
   ]
  },
  {
   "cell_type": "code",
   "execution_count": null,
   "metadata": {},
   "outputs": [],
   "source": [
    "# Imports\n",
    "import io\n",
    "import math\n",
    "import os\n",
    "\n",
    "import folium\n",
    "import geojson\n",
    "import numpy as np\n",
    "import pandas as pd\n",
    "import seaborn as sns\n",
    "from PIL import Image"
   ]
  },
  {
   "cell_type": "code",
   "execution_count": null,
   "metadata": {},
   "outputs": [],
   "source": [
    "# Change directory to root\n",
    "directory = os.getcwd().split('/')[-1]\n",
    "\n",
    "if directory == 'notebooks':\n",
    "    %cd .."
   ]
  },
  {
   "cell_type": "code",
   "execution_count": null,
   "metadata": {},
   "outputs": [],
   "source": [
    "# Matplotlib import and setup\n",
    "import matplotlib\n",
    "\n",
    "# matplotlib.use('PDF')\n",
    "\n",
    "import matplotlib.pyplot as plt\n",
    "print(f'matplotlib backend: {matplotlib.get_backend()}')"
   ]
  },
  {
   "cell_type": "code",
   "execution_count": null,
   "metadata": {},
   "outputs": [],
   "source": [
    "# configuration variables\n",
    "should_save = False"
   ]
  },
  {
   "cell_type": "code",
   "execution_count": null,
   "metadata": {},
   "outputs": [],
   "source": [
    "# Import functions\n",
    "from coordinate_converter import utm_to_longitude_latitude\n",
    "import map_utils\n"
   ]
  },
  {
   "cell_type": "code",
   "execution_count": null,
   "metadata": {},
   "outputs": [],
   "source": [
    "incidents = pd.read_csv('proprietary_data/processed_data.csv', index_col=0)\n",
    "incidents"
   ]
  },
  {
   "cell_type": "markdown",
   "metadata": {},
   "source": [
    "# Build heatmap"
   ]
  },
  {
   "cell_type": "code",
   "execution_count": null,
   "metadata": {},
   "outputs": [],
   "source": [
    "counts = incidents.groupby(['xcoor', 'ycoor'], as_index=False).size()\n",
    "counts['counts'] = counts['size']\n",
    "counts.drop(['size'], axis=1, inplace=True)\n",
    "\n",
    "empty_cells = pd.read_csv('data/empty_cells.csv', encoding='utf-8', index_col=0)\n",
    "empty_cells = empty_cells[['X', 'Y']].rename(columns={'X': 'xcoor', 'Y': 'ycoor'})\n",
    "counts = pd.concat([counts, empty_cells.assign(counts=0)]) \n",
    "\n",
    "counts.sort_values('counts')"
   ]
  },
  {
   "cell_type": "markdown",
   "metadata": {},
   "source": [
    "## Save as geojson file"
   ]
  },
  {
   "cell_type": "code",
   "execution_count": null,
   "metadata": {},
   "outputs": [],
   "source": [
    "features = counts.apply(lambda row: map_utils.centroid_to_geojson_square(*row), axis=1).tolist()\n",
    "geojson_file_name = 'data/grid.geojson'\n",
    "\n",
    "with open(geojson_file_name, 'w', encoding='utf8') as file:\n",
    "        geojson.dump(geojson.FeatureCollection(features), file)"
   ]
  },
  {
   "cell_type": "markdown",
   "metadata": {},
   "source": [
    "## Render map and save to image"
   ]
  },
  {
   "cell_type": "code",
   "execution_count": null,
   "metadata": {},
   "outputs": [],
   "source": [
    "if should_save:\n",
    "    \n",
    "    folium_map = folium.Map(\n",
    "        width=400,\n",
    "        location=[60.3, 8.6],\n",
    "        tiles='cartodbpositron',\n",
    "        zoom_start=8,\n",
    "        zoom_control=False,\n",
    "    )\n",
    "    \n",
    "    folium.GeoJson(geojson_file_name, name='geojson', style_function=map_utils.style_function).add_to(folium_map)\n",
    "\n",
    "    # Center map on data\n",
    "    south_west, north_east = list(zip(counts.xcoor.agg(['min', 'max']), counts.ycoor.agg(['min', 'max'])))\n",
    "    south_west, north_east = utm_to_longitude_latitude(south_west)[::-1], utm_to_longitude_latitude(north_east)[::-1]\n",
    "\n",
    "    folium_map.fit_bounds([south_west, north_east])\n",
    "\n",
    "    image_data = folium_map._to_png(delay=7)\n",
    "    heatmap = Image.open(io.BytesIO(image_data))\n",
    "    heatmap.save('../output/visualization/heatmap.png')\n",
    "\n",
    "    map_utils.plot_colors_as_legend(title='Aggregated incidents', file_path='../output/visualization/heatmap_legend.png')"
   ]
  },
  {
   "cell_type": "markdown",
   "metadata": {},
   "source": [
    "## Number of grid cells per category"
   ]
  },
  {
   "cell_type": "code",
   "execution_count": null,
   "metadata": {},
   "outputs": [],
   "source": [
    "count_logs = counts[counts.counts > 0]['counts'].apply(np.log10)\n",
    "log_groups = pd.DataFrame(count_logs.apply(math.floor).value_counts())\n",
    "log_groups = pd.concat([pd.DataFrame([counts[counts.counts == 0]['counts'].shape[0]], columns=['counts']), log_groups], ignore_index=True)\n",
    "\n",
    "color_map = map_utils.get_colors()\n",
    "log_groups.index=color_map.keys()\n",
    "edgecolors = ['#00000000'] *  len(color_map)\n",
    "edgecolors[0] = 'grey'\n",
    "\n",
    "ax = sns.barplot(data=log_groups, x=log_groups.counts, y=log_groups.index, palette=color_map.values(), edgecolor=edgecolors)\n",
    "ax.set(xlabel='Number of grid cells', ylabel='Number of incidents')\n",
    "\n",
    "bars = ax.patches\n",
    "labels = log_groups.counts\n",
    "\n",
    "for bar, label in zip(bars, labels):\n",
    "    width = bar.get_width()\n",
    "    height = bar.get_height()\n",
    "    y = bar.get_y()\n",
    "    ax.text(width + 150, y + height / 2, label, ha='center')\n",
    "\n",
    "sns.despine()\n",
    "plt.tight_layout()\n",
    "\n",
    "if should_save:\n",
    "    plt.savefig('../output/visualization/number_of_grid_cells.pdf', dpi=600)"
   ]
  },
  {
   "cell_type": "markdown",
   "metadata": {},
   "source": [
    "# Base station clustering"
   ]
  },
  {
   "cell_type": "code",
   "execution_count": null,
   "metadata": {},
   "outputs": [],
   "source": [
    "grids = pd.read_csv('data/grid_zones.csv', index_col=0)\n",
    "grids"
   ]
  },
  {
   "cell_type": "code",
   "execution_count": null,
   "metadata": {},
   "outputs": [],
   "source": [
    "empty_cells = pd.read_csv('data/empty_cells.csv', encoding='utf-8', index_col=0)\n",
    "empty_cells = empty_cells[['X', 'Y']].rename(columns={'X': 'easting', 'Y': 'northing'})\n",
    "empty_cells['easting'] = empty_cells['easting'].astype(int)\n",
    "empty_cells['northing'] = empty_cells['northing'].astype(int)\n",
    "\n",
    "grids = grids[['easting', 'northing', 'base_station']]\n",
    "\n",
    "grids = pd.concat([grids, empty_cells.assign(base_station=19)])\n",
    "grids"
   ]
  },
  {
   "cell_type": "code",
   "execution_count": null,
   "metadata": {},
   "outputs": [],
   "source": [
    "base_stations = pd.read_csv('data/base_stations.csv', encoding='utf-8', index_col=0)\n",
    "base_stations = base_stations[['easting', 'northing']]\n",
    "base_stations"
   ]
  },
  {
   "cell_type": "code",
   "execution_count": null,
   "metadata": {},
   "outputs": [],
   "source": [
    "geojson_grid_zones_file = 'data/grid_zones.geojson'\n",
    "\n",
    "squares = grids.apply(lambda row: map_utils.centroid_to_geojson_square(*row, color_mapper=map_utils.zone_color), axis=1).tolist()\n",
    "points = base_stations.apply(lambda row: map_utils.centroid_to_geojson(*row), axis=1).tolist()\n",
    "\n",
    "features = squares # + points\n",
    "\n",
    "with open(geojson_grid_zones_file, 'w', encoding='utf8') as file:\n",
    "        geojson.dump(geojson.FeatureCollection(features), file)\n",
    "    \n",
    "folium_map = folium.Map(\n",
    "    width=400,\n",
    "    location=[60.3, 8.6],\n",
    "    tiles='cartodbpositron',\n",
    "    zoom_start=8,\n",
    "    zoom_control=False,\n",
    ")\n",
    "\n",
    "folium.GeoJson(geojson_grid_zones_file, name='geojson', style_function=map_utils.style_function).add_to(folium_map)\n",
    "\n",
    "for point in points:\n",
    "\n",
    "    folium.CircleMarker(\n",
    "        location=point['geometry']['coordinates'][::-1],\n",
    "        radius=3,\n",
    "        color='#000000',\n",
    "        fill=True,\n",
    "        fill_color='#000000',\n",
    "    ).add_to(folium_map)\n",
    "\n",
    "# Center map on data\n",
    "south_west, north_east = list(zip(grids.easting.agg(['min', 'max']), grids.northing.agg(['min', 'max'])))\n",
    "south_west, north_east = utm_to_longitude_latitude(south_west)[::-1], utm_to_longitude_latitude(north_east)[::-1]\n",
    "\n",
    "folium_map.fit_bounds([south_west, north_east])\n",
    "\n",
    "image_data = folium_map._to_png(delay=7)\n",
    "zones_image = Image.open(io.BytesIO(image_data))\n",
    "\n",
    "# Crop image\n",
    "width, height = zones_image.size\n",
    "zones_image = zones_image.crop((0, 0, 400, height))\n",
    "\n",
    "zones_image.save('../output/visualization/grid_zones.png')"
   ]
  },
  {
   "cell_type": "code",
   "execution_count": null,
   "metadata": {},
   "outputs": [],
   "source": [
    "import coordinate_converter\n",
    "\n",
    "folium_map = folium.Map(\n",
    "    width=400,\n",
    "    location=[60.3, 8.6],\n",
    "    tiles='cartodbpositron',\n",
    "    zoom_start=10,\n",
    "    zoom_control=False,\n",
    ")\n",
    "\n",
    "example_allocation = [2, 1, 2, 4, 4, 3, 1, 4, 0, 2, 2, 3, 2, 2, 3, 3, 3, 1, 3]\n",
    "\n",
    "locations = base_stations.apply(lambda row: coordinate_converter.utm_to_longitude_latitude(row)[::-1], axis=1).tolist()\n",
    "\n",
    "for i, location in enumerate(locations):\n",
    "    if (example_allocation[i] != 0):\n",
    "        folium.plugins.MarkerCluster(locations=([location] * example_allocation[i])).add_to(folium_map)\n",
    "\n",
    "# Center map on data\n",
    "south_west, north_east = list(zip(grids.easting.agg(['min', 'max']), grids.northing.agg(['min', 'max'])))\n",
    "south_west, north_east = utm_to_longitude_latitude(south_west)[::-1], utm_to_longitude_latitude(north_east)[::-1]\n",
    "\n",
    "folium_map.fit_bounds([south_west, north_east])\n",
    "\n",
    "image_data = folium_map._to_png(delay=7)\n",
    "zones_image = Image.open(io.BytesIO(image_data))\n",
    "\n",
    "# Crop image\n",
    "width, height = zones_image.size\n",
    "zones_image = zones_image.crop((0, 0, 400, height))\n",
    "\n",
    "zones_image.save('../output/visualization/allocation.png')"
   ]
  },
  {
   "cell_type": "code",
   "execution_count": null,
   "metadata": {},
   "outputs": [],
   "source": []
  }
 ],
 "metadata": {
  "interpreter": {
   "hash": "f5b71bebabd6f5c7fdef6d616c16927609c779e2c8f85ff6b50dc147b8612076"
  },
  "kernelspec": {
   "display_name": "Python 3.8.10 64-bit ('venv': venv)",
   "language": "python",
   "name": "python3"
  },
  "language_info": {
   "codemirror_mode": {
    "name": "ipython",
    "version": 3
   },
   "file_extension": ".py",
   "mimetype": "text/x-python",
   "name": "python",
   "nbconvert_exporter": "python",
   "pygments_lexer": "ipython3",
   "version": "3.8.10"
  },
  "orig_nbformat": 4
 },
 "nbformat": 4,
 "nbformat_minor": 2
}
