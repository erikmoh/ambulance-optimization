{
 "cells": [
  {
   "cell_type": "markdown",
   "metadata": {},
   "source": [
    "# Imports and config"
   ]
  },
  {
   "cell_type": "code",
   "execution_count": null,
   "metadata": {},
   "outputs": [],
   "source": [
    "import os\n",
    "\n",
    "import numpy as np\n",
    "import pandas as pd\n",
    "\n",
    "directory = os.getcwd().split('/')[-1]\n",
    "\n",
    "if directory == 'notebooks':\n",
    "    %cd .."
   ]
  },
  {
   "cell_type": "code",
   "execution_count": null,
   "metadata": {},
   "outputs": [],
   "source": [
    "# Matplotlib & seaborn setup\n",
    "import matplotlib\n",
    "import seaborn as sns\n",
    "# matplotlib.use('PDF')\n",
    "\n",
    "sns.set(rc={'figure.figsize':(11, 4)})\n",
    "sns.set_style('ticks')\n",
    "\n",
    "import matplotlib.pyplot as plt\n",
    "import matplotlib.dates as mdates\n",
    "from matplotlib.ticker import FuncFormatter\n",
    "\n",
    "print(f'matplotlib backend: {matplotlib.get_backend()}')"
   ]
  },
  {
   "cell_type": "code",
   "execution_count": null,
   "metadata": {},
   "outputs": [],
   "source": [
    "# configuration variables\n",
    "should_save = True"
   ]
  },
  {
   "cell_type": "code",
   "execution_count": null,
   "metadata": {},
   "outputs": [],
   "source": [
    "incidents = pd.read_csv('data/processed_data.csv', index_col=0, parse_dates=True).sort_index()\n",
    "incidents"
   ]
  },
  {
   "cell_type": "markdown",
   "metadata": {},
   "source": [
    "# Resampling"
   ]
  },
  {
   "cell_type": "code",
   "execution_count": null,
   "metadata": {},
   "outputs": [],
   "source": [
    "incidents_hourly = pd.DataFrame(incidents.resample('H').count()['hastegrad'])\n",
    "incidents_hourly = incidents_hourly.rename(columns={'hastegrad': 'incidents'})\n",
    "incidents_hourly = incidents_hourly.sort_index()\n",
    "incidents_hourly"
   ]
  },
  {
   "cell_type": "markdown",
   "metadata": {},
   "source": [
    "## Hourly incidents"
   ]
  },
  {
   "cell_type": "code",
   "execution_count": null,
   "metadata": {},
   "outputs": [],
   "source": [
    "incidents_hourly['hour'] = incidents_hourly.index.hour\n",
    "incidents_hourly['day'] = incidents_hourly.index.day\n",
    "incidents_hourly['month'] = incidents_hourly.index.month\n",
    "incidents_hourly['year'] = incidents_hourly.index.year\n",
    "incidents_hourly['weekday'] = incidents_hourly.index.weekday\n",
    "incidents_hourly"
   ]
  },
  {
   "cell_type": "markdown",
   "metadata": {},
   "source": [
    "## Daily incidents"
   ]
  },
  {
   "cell_type": "code",
   "execution_count": null,
   "metadata": {},
   "outputs": [],
   "source": [
    "incidents_daily =  pd.DataFrame(incidents_hourly['incidents'].resample('D').sum())\n",
    "incidents_daily['month'] = incidents_daily.index.month\n",
    "incidents_daily['year'] = incidents_daily.index.year\n",
    "incidents_daily['weekday'] = incidents_daily.index.weekday\n",
    "incidents_daily"
   ]
  },
  {
   "cell_type": "markdown",
   "metadata": {},
   "source": [
    "## Aggregated weekly average"
   ]
  },
  {
   "cell_type": "code",
   "execution_count": null,
   "metadata": {},
   "outputs": [],
   "source": [
    "incidents_weekly_average = incidents_hourly['incidents'] \\\n",
    "    .groupby([incidents_hourly.weekday, incidents_hourly.hour]) \\\n",
    "    .agg(['mean', 'std'])\n",
    "\n",
    "reference_week = pd.date_range(start='1/5/2015', end='1/12/2015', closed='left', freq='H')\n",
    "incidents_weekly_average = incidents_weekly_average.set_index(reference_week)\n",
    "incidents_weekly_average['weekday'] = incidents_weekly_average.index.weekday\n",
    "incidents_weekly_average"
   ]
  },
  {
   "cell_type": "markdown",
   "metadata": {},
   "source": []
  },
  {
   "cell_type": "markdown",
   "metadata": {},
   "source": [
    "## Monthly incidents"
   ]
  },
  {
   "cell_type": "code",
   "execution_count": null,
   "metadata": {},
   "outputs": [],
   "source": [
    "incidents_monthly =  pd.DataFrame(incidents_daily['incidents'].resample('M').sum())\n",
    "incidents_monthly['year'] = incidents_monthly.index.year\n",
    "incidents_monthly"
   ]
  },
  {
   "cell_type": "markdown",
   "metadata": {},
   "source": [
    "## Yearly incidents"
   ]
  },
  {
   "cell_type": "code",
   "execution_count": null,
   "metadata": {},
   "outputs": [],
   "source": [
    "incidents_yearly =  pd.DataFrame(incidents_monthly['incidents'].resample('Y').sum())\n",
    "incidents_yearly"
   ]
  },
  {
   "cell_type": "markdown",
   "metadata": {},
   "source": [
    "# Plotting"
   ]
  },
  {
   "cell_type": "markdown",
   "metadata": {},
   "source": [
    "# Auto-correlation"
   ]
  },
  {
   "cell_type": "code",
   "execution_count": null,
   "metadata": {},
   "outputs": [],
   "source": [
    "# TODO\n",
    "pd.plotting.autocorrelation_plot(incidents_daily)\n"
   ]
  },
  {
   "cell_type": "markdown",
   "metadata": {},
   "source": [
    "## Incidents per day"
   ]
  },
  {
   "cell_type": "code",
   "execution_count": null,
   "metadata": {},
   "outputs": [],
   "source": [
    "x, y = incidents_daily.index, incidents_daily.incidents\n",
    "ax = sns.lineplot(data=incidents_daily, x=x, y=y)\n",
    "ax.set(xlabel='Time', ylabel='Incidents per day')\n",
    "\n",
    "rolling_mean = y.rolling(window=30, center=True, min_periods=28).mean()\n",
    "ax.plot(rolling_mean, 'k-', label='30-days rolling mean')\n",
    "\n",
    "x = mdates.date2num(x)\n",
    "z = np.polyfit(x, y, 1)\n",
    "p = np.poly1d(z)\n",
    "ax.plot(x, p(x), linestyle='-.', color='red', label='Trend line')\n",
    "\n",
    "\n",
    "sns.despine()\n",
    "ax.legend()\n",
    "\n",
    "ax.set_xlim(left=incidents_daily.index[0])\n",
    "\n",
    "# Minor axis\n",
    "ax.grid(b=True, which='minor')\n",
    "ax.xaxis.set_minor_locator(mdates.MonthLocator(bymonth=[4, 7, 10]))\n",
    "ax.xaxis.set_minor_formatter(mdates.DateFormatter('%b'))\n",
    "\n",
    "# Major axis\n",
    "ax.grid(b=True, which='major')\n",
    "ax.tick_params(which='major', axis='x', length=15, width=1)\n",
    "ax.xaxis.set_major_locator(mdates.YearLocator())\n",
    "ax.xaxis.set_major_formatter(mdates.DateFormatter('%Y'))\n",
    "\n",
    "plt.tight_layout()\n",
    "\n",
    "if should_save:\n",
    "    plt.savefig('results/daily_incidents.pdf', dpi=600)\n"
   ]
  },
  {
   "cell_type": "markdown",
   "metadata": {},
   "source": [
    "## Monthly plots"
   ]
  },
  {
   "cell_type": "code",
   "execution_count": null,
   "metadata": {},
   "outputs": [],
   "source": [
    "def int_to_month(x, _):\n",
    "    months = [\n",
    "        'Jan',\n",
    "        'Feb',\n",
    "        'Mar',\n",
    "        'Apr',\n",
    "        'May',\n",
    "        'Jun',\n",
    "        'Jul',\n",
    "        'Aug',\n",
    "        'Sep',\n",
    "        'Oct',\n",
    "        'Nov',\n",
    "        'Dec'\n",
    "    ]\n",
    "    return months[x]\n"
   ]
  },
  {
   "cell_type": "code",
   "execution_count": null,
   "metadata": {},
   "outputs": [],
   "source": [
    "ax = sns.violinplot(data=incidents_daily, x='month', y='incidents')\n",
    "ax.set(xlabel='Month', ylabel='Average incidents per day')\n",
    "\n",
    "sns.despine(trim=True)\n",
    "\n",
    "ax.xaxis.set_major_formatter(FuncFormatter(int_to_month))\n",
    "\n",
    "if should_save:\n",
    "    plt.savefig('results/monthly_violin_plot.pdf', dpi=600)"
   ]
  },
  {
   "cell_type": "code",
   "execution_count": null,
   "metadata": {},
   "outputs": [],
   "source": [
    "mean = incidents_daily['incidents'].mean()\n",
    "deviation = incidents_daily['incidents'].groupby([incidents_daily.month]).mean() - mean\n",
    "\n",
    "ax = sns.barplot(x=deviation.index, y=deviation)\n",
    "ax.set(xlabel='Month', ylabel='Deviation from daily mean')\n",
    "ax.axhline(0, color='k')\n",
    "\n",
    "sns.despine(trim=True)\n",
    "\n",
    "ax.xaxis.set_major_formatter(FuncFormatter(int_to_month))\n",
    "\n",
    "if should_save:\n",
    "    plt.savefig('results/monthly_deviation_from_mean.pdf', dpi=600)"
   ]
  },
  {
   "cell_type": "markdown",
   "metadata": {},
   "source": [
    "## Weekday violin plot"
   ]
  },
  {
   "cell_type": "code",
   "execution_count": null,
   "metadata": {},
   "outputs": [],
   "source": [
    "def int_to_weekday(x, _):\n",
    "    return ['Mon', 'Tue', 'Wed', 'Thu', 'Fri', 'Sat', 'Sun'][x]\n",
    "\n",
    "ax = sns.violinplot(data=incidents_hourly, x='weekday', y='incidents')\n",
    "ax.set(xlabel='Weekday', ylabel='Average incidents per hour')\n",
    "\n",
    "sns.despine(trim=True)\n",
    "\n",
    "ax.xaxis.set_major_formatter(FuncFormatter(int_to_weekday))\n",
    "\n",
    "if should_save:\n",
    "    plt.savefig('results/weekday_violin_plot.pdf', dpi=600)"
   ]
  },
  {
   "cell_type": "markdown",
   "metadata": {},
   "source": [
    "## Hourly average"
   ]
  },
  {
   "cell_type": "code",
   "execution_count": null,
   "metadata": {},
   "outputs": [],
   "source": [
    "ax = sns.lineplot(data=incidents_hourly, x='hour', y='incidents')\n",
    "\n",
    "ax.set(xlabel='Hour of the day', ylabel='Average incidents per hour')\n",
    "\n",
    "sns.despine()\n",
    "\n",
    "ax.set_ylim(bottom=0)\n",
    "ax.set_xlim(left=0)\n",
    "\n",
    "ax.grid()\n",
    "ax.xaxis.set_ticks(np.arange(0, 25, 1))\n",
    "\n",
    "if should_save:\n",
    "    plt.savefig('results/daily_average.pdf', dpi=600)"
   ]
  },
  {
   "cell_type": "markdown",
   "metadata": {},
   "source": [
    "## Per day average "
   ]
  },
  {
   "cell_type": "code",
   "execution_count": null,
   "metadata": {},
   "outputs": [],
   "source": [
    "\n",
    "ax = sns.lineplot(data=incidents_weekly_average, x=incidents_weekly_average.index, y='mean')\n",
    "ax.set(xlabel='Time of week', ylabel='Average incidents per hour')\n",
    "\n",
    "sns.despine()\n",
    "\n",
    "ax.set_xlim([incidents_weekly_average.index[0], incidents_weekly_average.index[-1]])\n",
    "ax.set_ylim(bottom=0)\n",
    "\n",
    "# Minor axis\n",
    "ax.grid(b=True, which='minor', color='rosybrown', linestyle='--')\n",
    "ax.xaxis.set_minor_locator(mdates.HourLocator(byhour=[6, 12, 18]))\n",
    "ax.xaxis.set_minor_formatter(mdates.DateFormatter('%H'))\n",
    "\n",
    "# Major axis\n",
    "ax.grid(b=True, which='major')\n",
    "ax.tick_params(which='major', axis='x', length=17.5, width=1)\n",
    "ax.xaxis.set_major_locator(mdates.DayLocator())\n",
    "ax.xaxis.set_major_formatter(mdates.DateFormatter('%A'))\n",
    "\n",
    "plt.tight_layout()\n",
    "\n",
    "if should_save:\n",
    "    plt.savefig('results/average_week.pdf', dpi=600)"
   ]
  },
  {
   "cell_type": "code",
   "execution_count": null,
   "metadata": {},
   "outputs": [],
   "source": []
  }
 ],
 "metadata": {
  "interpreter": {
   "hash": "f5b71bebabd6f5c7fdef6d616c16927609c779e2c8f85ff6b50dc147b8612076"
  },
  "kernelspec": {
   "display_name": "Python 3.8.10 64-bit ('venv': venv)",
   "language": "python",
   "name": "python3"
  },
  "language_info": {
   "codemirror_mode": {
    "name": "ipython",
    "version": 3
   },
   "file_extension": ".py",
   "mimetype": "text/x-python",
   "name": "python",
   "nbconvert_exporter": "python",
   "pygments_lexer": "ipython3",
   "version": "3.8.10"
  },
  "orig_nbformat": 4
 },
 "nbformat": 4,
 "nbformat_minor": 2
}
