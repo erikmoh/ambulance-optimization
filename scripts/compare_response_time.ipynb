{
 "cells": [
  {
   "cell_type": "code",
   "execution_count": null,
   "metadata": {},
   "outputs": [],
   "source": [
    "import pandas as pd\n",
    "from datetime import datetime\n",
    "import matplotlib.pyplot as plt"
   ]
  },
  {
   "cell_type": "code",
   "execution_count": null,
   "metadata": {},
   "outputs": [],
   "source": [
    "def convert(timestamp):\n",
    "    year = int(timestamp[0:4])\n",
    "    month = int(timestamp[5:7])\n",
    "    day = int(timestamp[8:10])\n",
    "    hour = int(timestamp[11:13])\n",
    "    minute = int(timestamp[14:16])\n",
    "    try:\n",
    "        second = int(timestamp[17:19])\n",
    "    except:\n",
    "        second = 0\n",
    "    time = datetime(year, month, day, hour, minute, second)\n",
    "    return time"
   ]
  },
  {
   "cell_type": "code",
   "execution_count": null,
   "metadata": {},
   "outputs": [],
   "source": [
    "df_simple_response_times = pd.read_csv(\"C:/Users/erikm/Documents/Studie/Master/ambulance-optimization/output/simulation/simple_response_times_fastest.csv\")\n",
    "df_simple_response_times[\"response_time\"] = df_simple_response_times[\"response_time\"]/60\n",
    "times = [convert(x) for x in df_simple_response_times[\"timestamp\"].values]\n",
    "\n",
    "# Convert timestamp column to datetime\n",
    "df_simple_response_times[\"timestamp\"] = pd.to_datetime(df_simple_response_times[\"timestamp\"])\n",
    "\n",
    "# Sort the DataFrame based on timestamp\n",
    "df_simple_response_times = df_simple_response_times.sort_values(by=\"timestamp\")"
   ]
  },
  {
   "cell_type": "code",
   "execution_count": null,
   "metadata": {},
   "outputs": [],
   "source": [
    "df_incidents = pd.read_csv(\"C:/Users/erikm/Documents/Studie/Master/ambulance-optimization/src/main/resources/data/incidents.csv\")\n",
    "\n",
    "start = datetime(2017, 8, 7, 0, 0, 0)\n",
    "end = datetime(2017, 8, 14, 0, 0, 0)\n",
    "\n",
    "rows = []\n",
    "times2 = []\n",
    "for incident in df_incidents.values:\n",
    "    try:\n",
    "        time = convert(incident[0])\n",
    "        if start < time < end and incident[3] not in [\"V1\", \"V2\", \"V\"]:\n",
    "            if time not in times:\n",
    "                continue\n",
    "            arrival = convert(incident[7])\n",
    "            dispatch = convert(incident[6])\n",
    "            delta = arrival - time\n",
    "            dispatch_time = dispatch - time\n",
    "            if delta.seconds >= 0:\n",
    "                times2.append(time)\n",
    "                response = {\"time\": time, \"response_time\": delta.seconds/60, \"dispatch_time\": dispatch_time.seconds/60}\n",
    "                rows.append(response)\n",
    "    except:\n",
    "        continue\n",
    "\n",
    "response_times = pd.DataFrame(rows)    "
   ]
  },
  {
   "cell_type": "code",
   "execution_count": null,
   "metadata": {},
   "outputs": [],
   "source": [
    "df_simple_response_times = df_simple_response_times[df_simple_response_times[\"timestamp\"].isin(times2)]"
   ]
  },
  {
   "cell_type": "code",
   "execution_count": null,
   "metadata": {},
   "outputs": [],
   "source": [
    "cut_start = 0\n",
    "cut_end = len(df_simple_response_times)\n",
    "response_times_plot = response_times[cut_start:cut_end]\n",
    "df_simple_response_times_plot = df_simple_response_times[cut_start:cut_end]\n",
    "\n",
    "print(response_times_plot.shape)\n",
    "print(df_simple_response_times_plot.shape)"
   ]
  },
  {
   "cell_type": "code",
   "execution_count": null,
   "metadata": {},
   "outputs": [],
   "source": [
    "from scipy.stats import spearmanr, kendalltau"
   ]
  },
  {
   "cell_type": "code",
   "execution_count": null,
   "metadata": {},
   "outputs": [],
   "source": [
    "print(response_times_plot[\"response_time\"].corr(df_simple_response_times_plot[\"response_time\"]))\n",
    "print(spearmanr(response_times_plot[\"response_time\"], df_simple_response_times_plot[\"response_time\"]))\n",
    "print(kendalltau(response_times_plot[\"response_time\"], df_simple_response_times_plot[\"response_time\"]))\n"
   ]
  },
  {
   "cell_type": "code",
   "execution_count": null,
   "metadata": {},
   "outputs": [],
   "source": [
    "plt.rcParams[\"figure.figsize\"] = (15,5)\n",
    "plt.plot(response_times_plot[\"time\"], response_times_plot[\"response_time\"])\n",
    "plt.plot(response_times_plot[\"time\"], df_simple_response_times_plot[\"response_time\"])\n",
    "plt.gcf().autofmt_xdate()\n",
    "plt.ylim(0, 100)"
   ]
  },
  {
   "attachments": {},
   "cell_type": "markdown",
   "metadata": {},
   "source": [
    "uses simulated dispatch time. "
   ]
  }
 ],
 "metadata": {
  "kernelspec": {
   "display_name": "Python 3",
   "language": "python",
   "name": "python3"
  },
  "language_info": {
   "codemirror_mode": {
    "name": "ipython",
    "version": 3
   },
   "file_extension": ".py",
   "mimetype": "text/x-python",
   "name": "python",
   "nbconvert_exporter": "python",
   "pygments_lexer": "ipython3",
   "version": "3.10.9"
  },
  "orig_nbformat": 4,
  "vscode": {
   "interpreter": {
    "hash": "d4a811d5ac078233afb31e03e369e37491729ef21c8e6253c2c4b1b285997043"
   }
  }
 },
 "nbformat": 4,
 "nbformat_minor": 2
}
