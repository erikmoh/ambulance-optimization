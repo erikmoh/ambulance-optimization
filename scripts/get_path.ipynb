{
 "cells": [
  {
   "cell_type": "code",
   "execution_count": null,
   "metadata": {},
   "outputs": [],
   "source": [
    "import json\n",
    "import statistics"
   ]
  },
  {
   "cell_type": "code",
   "execution_count": null,
   "metadata": {},
   "outputs": [],
   "source": [
    "od = {}\n",
    "with open(f'data/od.json', 'r') as r:\n",
    "    od = json.load(r)"
   ]
  },
  {
   "cell_type": "code",
   "execution_count": null,
   "metadata": {},
   "outputs": [],
   "source": [
    "od_paths = {}\n",
    "with open(f'data/od_paths.json', 'r') as r:\n",
    "    od_paths = json.load(r)"
   ]
  },
  {
   "cell_type": "code",
   "execution_count": null,
   "metadata": {},
   "outputs": [],
   "source": [
    "start = \"22630006650000\"\n",
    "end = \"22630006639000\"\n",
    "\n",
    "travel_time = od[start][end]\n",
    "path = od_paths[start][end]\n",
    "\n",
    "print(travel_time)\n",
    "print(path[\"travel_time\"]/60)"
   ]
  },
  {
   "cell_type": "code",
   "execution_count": null,
   "metadata": {},
   "outputs": [],
   "source": [
    "old = []\n",
    "new = []\n",
    "diffs = []\n",
    "\n",
    "for start_id in od_paths.keys():\n",
    "    if start_id == \"update_period_minutes\":\n",
    "        continue\n",
    "    for end_id in od_paths[start_id]:\n",
    "        try:\n",
    "            travel_time = od[start_id][end_id]\n",
    "            path_time = od_paths[start_id][end_id][\"travel_time\"]/60\n",
    "            old.append(travel_time)\n",
    "            new.append(path_time)\n",
    "            diffs.append(round(path_time-travel_time, 1))\n",
    "        except:\n",
    "            continue"
   ]
  },
  {
   "cell_type": "code",
   "execution_count": null,
   "metadata": {},
   "outputs": [],
   "source": [
    "print(\"Average travel time difference:\", statistics.fmean(diffs))\n",
    "print(\"Biggest differences:\", max(diffs), min(diffs))\n",
    "print(\"Median travel time old:\", statistics.median(old))\n",
    "print(\"Median travel time new:\", statistics.median(new))"
   ]
  }
 ],
 "metadata": {
  "kernelspec": {
   "display_name": "Python 3",
   "language": "python",
   "name": "python3"
  },
  "language_info": {
   "codemirror_mode": {
    "name": "ipython",
    "version": 3
   },
   "file_extension": ".py",
   "mimetype": "text/x-python",
   "name": "python",
   "nbconvert_exporter": "python",
   "pygments_lexer": "ipython3",
   "version": "3.10.9 (tags/v3.10.9:1dd9be6, Dec  6 2022, 20:01:21) [MSC v.1934 64 bit (AMD64)]"
  },
  "orig_nbformat": 4,
  "vscode": {
   "interpreter": {
    "hash": "d4a811d5ac078233afb31e03e369e37491729ef21c8e6253c2c4b1b285997043"
   }
  }
 },
 "nbformat": 4,
 "nbformat_minor": 2
}
