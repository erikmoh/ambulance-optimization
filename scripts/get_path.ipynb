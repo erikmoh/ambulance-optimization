{
 "cells": [
  {
   "cell_type": "code",
   "execution_count": 7,
   "metadata": {},
   "outputs": [],
   "source": [
    "import json\n",
    "\n",
    "od = {}\n",
    "with open(f'data/od_path_matrix_with_missing_both.json', 'r') as r:\n",
    "    od = json.load(r)"
   ]
  },
  {
   "cell_type": "code",
   "execution_count": 9,
   "metadata": {},
   "outputs": [
    {
     "name": "stdout",
     "output_type": "stream",
     "text": [
      "{'travel_time': 848, 'route': ['22630006642000', '22630006646000']}\n"
     ]
    }
   ],
   "source": [
    "start = \"22640006640000\"\n",
    "end = \"22630006649000\"\n",
    "\n",
    "path = od[start][end]\n",
    "\n",
    "print(path)"
   ]
  }
 ],
 "metadata": {
  "kernelspec": {
   "display_name": "Python 3.10.8 64-bit",
   "language": "python",
   "name": "python3"
  },
  "language_info": {
   "codemirror_mode": {
    "name": "ipython",
    "version": 3
   },
   "file_extension": ".py",
   "mimetype": "text/x-python",
   "name": "python",
   "nbconvert_exporter": "python",
   "pygments_lexer": "ipython3",
   "version": "3.10.8"
  },
  "orig_nbformat": 4,
  "vscode": {
   "interpreter": {
    "hash": "d4a811d5ac078233afb31e03e369e37491729ef21c8e6253c2c4b1b285997043"
   }
  }
 },
 "nbformat": 4,
 "nbformat_minor": 2
}
