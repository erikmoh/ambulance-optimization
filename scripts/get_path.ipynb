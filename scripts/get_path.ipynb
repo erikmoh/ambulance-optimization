{
 "cells": [
  {
   "cell_type": "code",
   "execution_count": null,
   "metadata": {},
   "outputs": [],
   "source": [
    "import json"
   ]
  },
  {
   "cell_type": "code",
   "execution_count": null,
   "metadata": {},
   "outputs": [],
   "source": [
    "od_paths = {}\n",
    "with open(f'data/od_paths.json', 'r') as r:\n",
    "    od_paths = json.load(r)"
   ]
  },
  {
   "cell_type": "code",
   "execution_count": null,
   "metadata": {},
   "outputs": [],
   "source": [
    "start = \"22630006650000\"\n",
    "end = \"22630006639000\"\n",
    "\n",
    "path = od_paths[start][end]\n",
    "\n",
    "print(path[\"travel_time\"]/60)"
   ]
  }
 ],
 "metadata": {
  "kernelspec": {
   "display_name": "incident_prediction",
   "language": "python",
   "name": "incident_prediction"
  },
  "language_info": {
   "codemirror_mode": {
    "name": "ipython",
    "version": 3
   },
   "file_extension": ".py",
   "mimetype": "text/x-python",
   "name": "python",
   "nbconvert_exporter": "python",
   "pygments_lexer": "ipython3",
   "version": "3.10.9"
  },
  "orig_nbformat": 4,
  "vscode": {
   "interpreter": {
    "hash": "d4a811d5ac078233afb31e03e369e37491729ef21c8e6253c2c4b1b285997043"
   }
  }
 },
 "nbformat": 4,
 "nbformat_minor": 2
}
