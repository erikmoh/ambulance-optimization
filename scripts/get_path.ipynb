{
 "cells": [
  {
   "cell_type": "code",
   "execution_count": 7,
   "metadata": {},
   "outputs": [],
   "source": [
    "import json\n",
    "\n",
    "od = {}\n",
    "with open(f'data/od_paths.json', 'r') as r:\n",
    "    od = json.load(r)"
   ]
  },
  {
   "cell_type": "code",
   "execution_count": 9,
   "metadata": {},
   "outputs": [
    {
     "name": "stdout",
     "output_type": "stream",
     "text": [
      "{'travel_time': 848, 'route': ['22630006642000', '22630006646000']}\n"
     ]
    }
   ],
   "source": [
    "start = \"22640006640000\"\n",
    "end = \"22630006649000\"\n",
    "\n",
    "path = od[start][end]\n",
    "\n",
    "print(path)"
   ]
  }
 ],
 "metadata": {
  "kernelspec": {
   "display_name": "Python 3.9.12 ('base')",
   "language": "python",
   "name": "python3"
  },
  "language_info": {
   "codemirror_mode": {
    "name": "ipython",
    "version": 3
   },
   "file_extension": ".py",
   "mimetype": "text/x-python",
   "name": "python",
   "nbconvert_exporter": "python",
   "pygments_lexer": "ipython3",
   "version": "3.9.12"
  },
  "orig_nbformat": 4,
  "vscode": {
   "interpreter": {
    "hash": "fa77eca7aa996a555850794f2a26a0d8629bdbc9fd4949f950fddbc24af0be25"
   }
  }
 },
 "nbformat": 4,
 "nbformat_minor": 2
}
